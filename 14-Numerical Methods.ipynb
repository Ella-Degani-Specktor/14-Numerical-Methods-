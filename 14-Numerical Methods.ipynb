{
 "cells": [
  {
   "cell_type": "markdown",
   "id": "b6e30f69",
   "metadata": {
    "toc": true
   },
   "source": [
    "<h1>Table of Contents<span class=\"tocSkip\"></span></h1>\n",
    "<div class=\"toc\"><ul class=\"toc-item\"><li><span><a href=\"#Data\" data-toc-modified-id=\"Data-1\"><span class=\"toc-item-num\">1&nbsp;&nbsp;</span>Data</a></span><ul class=\"toc-item\"><li><span><a href=\"#Project-description\" data-toc-modified-id=\"Project-description-1.1\"><span class=\"toc-item-num\">1.1&nbsp;&nbsp;</span>Project description</a></span></li><li><span><a href=\"#Data-description\" data-toc-modified-id=\"Data-description-1.2\"><span class=\"toc-item-num\">1.2&nbsp;&nbsp;</span>Data description</a></span></li><li><span><a href=\"#Library-imports-and-project-environment-setup\" data-toc-modified-id=\"Library-imports-and-project-environment-setup-1.3\"><span class=\"toc-item-num\">1.3&nbsp;&nbsp;</span>Library imports and project environment setup</a></span></li><li><span><a href=\"#CSV-file-read\" data-toc-modified-id=\"CSV-file-read-1.4\"><span class=\"toc-item-num\">1.4&nbsp;&nbsp;</span>CSV file read</a></span></li><li><span><a href=\"#General-info\" data-toc-modified-id=\"General-info-1.5\"><span class=\"toc-item-num\">1.5&nbsp;&nbsp;</span>General info</a></span></li><li><span><a href=\"#Preprocessing\" data-toc-modified-id=\"Preprocessing-1.6\"><span class=\"toc-item-num\">1.6&nbsp;&nbsp;</span>Preprocessing</a></span><ul class=\"toc-item\"><li><span><a href=\"#Column-names\" data-toc-modified-id=\"Column-names-1.6.1\"><span class=\"toc-item-num\">1.6.1&nbsp;&nbsp;</span>Column names</a></span></li><li><span><a href=\"#Data-type-change\" data-toc-modified-id=\"Data-type-change-1.6.2\"><span class=\"toc-item-num\">1.6.2&nbsp;&nbsp;</span>Data type change</a></span></li><li><span><a href=\"#Missing-values\" data-toc-modified-id=\"Missing-values-1.6.3\"><span class=\"toc-item-num\">1.6.3&nbsp;&nbsp;</span>Missing values</a></span><ul class=\"toc-item\"><li><span><a href=\"#not_repaired\" data-toc-modified-id=\"not_repaired-1.6.3.1\"><span class=\"toc-item-num\">1.6.3.1&nbsp;&nbsp;</span>not_repaired</a></span></li><li><span><a href=\"#vehicle_type,-model,-fuel_type\" data-toc-modified-id=\"vehicle_type,-model,-fuel_type-1.6.3.2\"><span class=\"toc-item-num\">1.6.3.2&nbsp;&nbsp;</span>vehicle_type, model, fuel_type</a></span></li><li><span><a href=\"#gearbox\" data-toc-modified-id=\"gearbox-1.6.3.3\"><span class=\"toc-item-num\">1.6.3.3&nbsp;&nbsp;</span>gearbox</a></span></li></ul></li><li><span><a href=\"#Duplicates\" data-toc-modified-id=\"Duplicates-1.6.4\"><span class=\"toc-item-num\">1.6.4&nbsp;&nbsp;</span>Duplicates</a></span></li></ul></li><li><span><a href=\"#EDA\" data-toc-modified-id=\"EDA-1.7\"><span class=\"toc-item-num\">1.7&nbsp;&nbsp;</span>EDA</a></span><ul class=\"toc-item\"><li><span><a href=\"#registration_year\" data-toc-modified-id=\"registration_year-1.7.1\"><span class=\"toc-item-num\">1.7.1&nbsp;&nbsp;</span>registration_year</a></span></li><li><span><a href=\"#price\" data-toc-modified-id=\"price-1.7.2\"><span class=\"toc-item-num\">1.7.2&nbsp;&nbsp;</span>price</a></span></li><li><span><a href=\"#mileage\" data-toc-modified-id=\"mileage-1.7.3\"><span class=\"toc-item-num\">1.7.3&nbsp;&nbsp;</span>mileage</a></span></li><li><span><a href=\"#power\" data-toc-modified-id=\"power-1.7.4\"><span class=\"toc-item-num\">1.7.4&nbsp;&nbsp;</span>power</a></span></li><li><span><a href=\"#vehicle-age\" data-toc-modified-id=\"vehicle-age-1.7.5\"><span class=\"toc-item-num\">1.7.5&nbsp;&nbsp;</span>vehicle age</a></span></li><li><span><a href=\"#postal_code\" data-toc-modified-id=\"postal_code-1.7.6\"><span class=\"toc-item-num\">1.7.6&nbsp;&nbsp;</span>postal_code</a></span></li></ul></li></ul></li><li><span><a href=\"#Preparation\" data-toc-modified-id=\"Preparation-2\"><span class=\"toc-item-num\">2&nbsp;&nbsp;</span>Preparation</a></span><ul class=\"toc-item\"><li><span><a href=\"#Dropping-columns\" data-toc-modified-id=\"Dropping-columns-2.1\"><span class=\"toc-item-num\">2.1&nbsp;&nbsp;</span>Dropping columns</a></span></li><li><span><a href=\"#Encoding\" data-toc-modified-id=\"Encoding-2.2\"><span class=\"toc-item-num\">2.2&nbsp;&nbsp;</span>Encoding</a></span></li><li><span><a href=\"#Splitting\" data-toc-modified-id=\"Splitting-2.3\"><span class=\"toc-item-num\">2.3&nbsp;&nbsp;</span>Splitting</a></span></li><li><span><a href=\"#Standard-scaling\" data-toc-modified-id=\"Standard-scaling-2.4\"><span class=\"toc-item-num\">2.4&nbsp;&nbsp;</span>Standard scaling</a></span></li></ul></li><li><span><a href=\"#Model\" data-toc-modified-id=\"Model-3\"><span class=\"toc-item-num\">3&nbsp;&nbsp;</span>Model</a></span><ul class=\"toc-item\"><li><span><a href=\"#Linear-regression\" data-toc-modified-id=\"Linear-regression-3.1\"><span class=\"toc-item-num\">3.1&nbsp;&nbsp;</span>Linear regression</a></span></li><li><span><a href=\"#Decision-Tree\" data-toc-modified-id=\"Decision-Tree-3.2\"><span class=\"toc-item-num\">3.2&nbsp;&nbsp;</span>Decision Tree</a></span><ul class=\"toc-item\"><li><span><a href=\"#Base\" data-toc-modified-id=\"Base-3.2.1\"><span class=\"toc-item-num\">3.2.1&nbsp;&nbsp;</span>Base</a></span></li><li><span><a href=\"#Tuned\" data-toc-modified-id=\"Tuned-3.2.2\"><span class=\"toc-item-num\">3.2.2&nbsp;&nbsp;</span>Tuned</a></span></li></ul></li><li><span><a href=\"#Random-Forest\" data-toc-modified-id=\"Random-Forest-3.3\"><span class=\"toc-item-num\">3.3&nbsp;&nbsp;</span>Random Forest</a></span><ul class=\"toc-item\"><li><span><a href=\"#Base\" data-toc-modified-id=\"Base-3.3.1\"><span class=\"toc-item-num\">3.3.1&nbsp;&nbsp;</span>Base</a></span></li><li><span><a href=\"#Tuned\" data-toc-modified-id=\"Tuned-3.3.2\"><span class=\"toc-item-num\">3.3.2&nbsp;&nbsp;</span>Tuned</a></span></li></ul></li><li><span><a href=\"#XGBoost\" data-toc-modified-id=\"XGBoost-3.4\"><span class=\"toc-item-num\">3.4&nbsp;&nbsp;</span>XGBoost</a></span><ul class=\"toc-item\"><li><span><a href=\"#Base\" data-toc-modified-id=\"Base-3.4.1\"><span class=\"toc-item-num\">3.4.1&nbsp;&nbsp;</span>Base</a></span></li><li><span><a href=\"#Tuned\" data-toc-modified-id=\"Tuned-3.4.2\"><span class=\"toc-item-num\">3.4.2&nbsp;&nbsp;</span>Tuned</a></span></li></ul></li><li><span><a href=\"#LightGBM\" data-toc-modified-id=\"LightGBM-3.5\"><span class=\"toc-item-num\">3.5&nbsp;&nbsp;</span>LightGBM</a></span><ul class=\"toc-item\"><li><span><a href=\"#Base\" data-toc-modified-id=\"Base-3.5.1\"><span class=\"toc-item-num\">3.5.1&nbsp;&nbsp;</span>Base</a></span></li><li><span><a href=\"#Tuned\" data-toc-modified-id=\"Tuned-3.5.2\"><span class=\"toc-item-num\">3.5.2&nbsp;&nbsp;</span>Tuned</a></span></li></ul></li><li><span><a href=\"#CatBoost\" data-toc-modified-id=\"CatBoost-3.6\"><span class=\"toc-item-num\">3.6&nbsp;&nbsp;</span>CatBoost</a></span><ul class=\"toc-item\"><li><span><a href=\"#Base\" data-toc-modified-id=\"Base-3.6.1\"><span class=\"toc-item-num\">3.6.1&nbsp;&nbsp;</span>Base</a></span></li><li><span><a href=\"#Tuned\" data-toc-modified-id=\"Tuned-3.6.2\"><span class=\"toc-item-num\">3.6.2&nbsp;&nbsp;</span>Tuned</a></span></li></ul></li><li><span><a href=\"#Results\" data-toc-modified-id=\"Results-3.7\"><span class=\"toc-item-num\">3.7&nbsp;&nbsp;</span>Results</a></span></li><li><span><a href=\"#CB--chosen-model\" data-toc-modified-id=\"CB--chosen-model-3.8\"><span class=\"toc-item-num\">3.8&nbsp;&nbsp;</span>CB- chosen model</a></span><ul class=\"toc-item\"><li><span><a href=\"#Further-tuning\" data-toc-modified-id=\"Further-tuning-3.8.1\"><span class=\"toc-item-num\">3.8.1&nbsp;&nbsp;</span>Further tuning</a></span></li><li><span><a href=\"#Retraining-and-testing\" data-toc-modified-id=\"Retraining-and-testing-3.8.2\"><span class=\"toc-item-num\">3.8.2&nbsp;&nbsp;</span>Retraining and testing</a></span></li><li><span><a href=\"#Sanity-check\" data-toc-modified-id=\"Sanity-check-3.8.3\"><span class=\"toc-item-num\">3.8.3&nbsp;&nbsp;</span>Sanity check</a></span></li></ul></li></ul></li><li><span><a href=\"#Conclusion\" data-toc-modified-id=\"Conclusion-4\"><span class=\"toc-item-num\">4&nbsp;&nbsp;</span>Conclusion</a></span></li></ul></div>"
   ]
  },
  {
   "cell_type": "markdown",
   "id": "c9cf6ae4",
   "metadata": {},
   "source": [
    "# Data\n",
    "## Project description"
   ]
  },
  {
   "cell_type": "markdown",
   "id": "811f3418",
   "metadata": {},
   "source": [
    "Rusty Bargain used car sales service is developing an app to attract new customers.\n",
    "In that app, model can quickly determine car's market value based on historical data (technical specifications, trim versions, and prices). \n",
    "\n",
    "Rusty Bargain is interested in prediction quality, speed and time required for training."
   ]
  },
  {
   "cell_type": "markdown",
   "id": "5e1cfa69",
   "metadata": {},
   "source": [
    "## Data description"
   ]
  },
  {
   "cell_type": "markdown",
   "id": "5360f9a0",
   "metadata": {},
   "source": [
    "**Features:**\n",
    "- DateCrawled — date profile was downloaded from database\n",
    "- VehicleType — vehicle body type\n",
    "- RegistrationYear — vehicle registration year\n",
    "- Gearbox — gearbox type\n",
    "- Power — power (hp)\n",
    "- Model — vehicle model\n",
    "- Mileage — mileage (measured in km due to dataset's regional specifics)\n",
    "- RegistrationMonth — vehicle registration month\n",
    "- FuelType — fuel type\n",
    "- Brand — vehicle brand\n",
    "- NotRepaired — vehicle repaired or not\n",
    "- DateCreated — profile creation date\n",
    "- NumberOfPictures — number of vehicle pictures\n",
    "- PostalCode — user postal code\n",
    "- LastSeen — last user activity date\n",
    "\n",
    "**Target:**\n",
    "- Price — price (Euro)"
   ]
  },
  {
   "cell_type": "markdown",
   "id": "e4fb0d10",
   "metadata": {},
   "source": [
    "## Library imports and project environment setup"
   ]
  },
  {
   "cell_type": "code",
   "execution_count": 1,
   "id": "14aaeca6",
   "metadata": {},
   "outputs": [],
   "source": [
    "#Data preprocessing and manipulation\n",
    "import pandas as pd\n",
    "import numpy as np\n",
    "from numpy import *\n",
    "import re\n",
    "from time import time\n",
    "\n",
    "#Remove warnings\n",
    "import sys\n",
    "import warnings\n",
    "if not sys.warnoptions:\n",
    "    warnings.simplefilter(\"ignore\")\n",
    "\n",
    "#Visualization\n",
    "import matplotlib.pyplot as plt\n",
    "#%matplotlib inline\n",
    "\n",
    "#ML\n",
    "from catboost import CatBoostRegressor\n",
    "import lightgbm\n",
    "from lightgbm import LGBMRegressor, LGBMClassifier, Booster\n",
    "from sklearn.ensemble import RandomForestRegressor\n",
    "from sklearn.linear_model import LinearRegression\n",
    "from sklearn.metrics import mean_squared_error\n",
    "from sklearn.model_selection import train_test_split\n",
    "from sklearn.preprocessing import StandardScaler as ss\n",
    "from sklearn.tree import DecisionTreeRegressor\n",
    "from xgboost import XGBRegressor"
   ]
  },
  {
   "cell_type": "markdown",
   "id": "90b355f7",
   "metadata": {},
   "source": [
    "## CSV file read"
   ]
  },
  {
   "cell_type": "code",
   "execution_count": 2,
   "id": "e6882227",
   "metadata": {},
   "outputs": [],
   "source": [
    "#Reading csv file using try-except to handle unexpected errors\n",
    "try:\n",
    "    df=pd.read_csv('/Downloads/car_data.csv')\n",
    "\n",
    "except:\n",
    "    df=pd.read_csv('https://code.s3.yandex.net/datasets/car_data.csv')"
   ]
  },
  {
   "cell_type": "markdown",
   "id": "82069d99",
   "metadata": {},
   "source": [
    "## General info"
   ]
  },
  {
   "cell_type": "code",
   "execution_count": 3,
   "id": "19b84c7c",
   "metadata": {},
   "outputs": [
    {
     "data": {
      "text/html": [
       "<div>\n",
       "<style scoped>\n",
       "    .dataframe tbody tr th:only-of-type {\n",
       "        vertical-align: middle;\n",
       "    }\n",
       "\n",
       "    .dataframe tbody tr th {\n",
       "        vertical-align: top;\n",
       "    }\n",
       "\n",
       "    .dataframe thead th {\n",
       "        text-align: right;\n",
       "    }\n",
       "</style>\n",
       "<table border=\"1\" class=\"dataframe\">\n",
       "  <thead>\n",
       "    <tr style=\"text-align: right;\">\n",
       "      <th></th>\n",
       "      <th>DateCrawled</th>\n",
       "      <th>Price</th>\n",
       "      <th>VehicleType</th>\n",
       "      <th>RegistrationYear</th>\n",
       "      <th>Gearbox</th>\n",
       "      <th>Power</th>\n",
       "      <th>Model</th>\n",
       "      <th>Mileage</th>\n",
       "      <th>RegistrationMonth</th>\n",
       "      <th>FuelType</th>\n",
       "      <th>Brand</th>\n",
       "      <th>NotRepaired</th>\n",
       "      <th>DateCreated</th>\n",
       "      <th>NumberOfPictures</th>\n",
       "      <th>PostalCode</th>\n",
       "      <th>LastSeen</th>\n",
       "    </tr>\n",
       "  </thead>\n",
       "  <tbody>\n",
       "    <tr>\n",
       "      <th>0</th>\n",
       "      <td>24/03/2016 11:52</td>\n",
       "      <td>480</td>\n",
       "      <td>NaN</td>\n",
       "      <td>1993</td>\n",
       "      <td>manual</td>\n",
       "      <td>0</td>\n",
       "      <td>golf</td>\n",
       "      <td>150000</td>\n",
       "      <td>0</td>\n",
       "      <td>petrol</td>\n",
       "      <td>volkswagen</td>\n",
       "      <td>NaN</td>\n",
       "      <td>24/03/2016 00:00</td>\n",
       "      <td>0</td>\n",
       "      <td>70435</td>\n",
       "      <td>07/04/2016 03:16</td>\n",
       "    </tr>\n",
       "    <tr>\n",
       "      <th>1</th>\n",
       "      <td>24/03/2016 10:58</td>\n",
       "      <td>18300</td>\n",
       "      <td>coupe</td>\n",
       "      <td>2011</td>\n",
       "      <td>manual</td>\n",
       "      <td>190</td>\n",
       "      <td>NaN</td>\n",
       "      <td>125000</td>\n",
       "      <td>5</td>\n",
       "      <td>gasoline</td>\n",
       "      <td>audi</td>\n",
       "      <td>yes</td>\n",
       "      <td>24/03/2016 00:00</td>\n",
       "      <td>0</td>\n",
       "      <td>66954</td>\n",
       "      <td>07/04/2016 01:46</td>\n",
       "    </tr>\n",
       "    <tr>\n",
       "      <th>2</th>\n",
       "      <td>14/03/2016 12:52</td>\n",
       "      <td>9800</td>\n",
       "      <td>suv</td>\n",
       "      <td>2004</td>\n",
       "      <td>auto</td>\n",
       "      <td>163</td>\n",
       "      <td>grand</td>\n",
       "      <td>125000</td>\n",
       "      <td>8</td>\n",
       "      <td>gasoline</td>\n",
       "      <td>jeep</td>\n",
       "      <td>NaN</td>\n",
       "      <td>14/03/2016 00:00</td>\n",
       "      <td>0</td>\n",
       "      <td>90480</td>\n",
       "      <td>05/04/2016 12:47</td>\n",
       "    </tr>\n",
       "    <tr>\n",
       "      <th>3</th>\n",
       "      <td>17/03/2016 16:54</td>\n",
       "      <td>1500</td>\n",
       "      <td>small</td>\n",
       "      <td>2001</td>\n",
       "      <td>manual</td>\n",
       "      <td>75</td>\n",
       "      <td>golf</td>\n",
       "      <td>150000</td>\n",
       "      <td>6</td>\n",
       "      <td>petrol</td>\n",
       "      <td>volkswagen</td>\n",
       "      <td>no</td>\n",
       "      <td>17/03/2016 00:00</td>\n",
       "      <td>0</td>\n",
       "      <td>91074</td>\n",
       "      <td>17/03/2016 17:40</td>\n",
       "    </tr>\n",
       "    <tr>\n",
       "      <th>4</th>\n",
       "      <td>31/03/2016 17:25</td>\n",
       "      <td>3600</td>\n",
       "      <td>small</td>\n",
       "      <td>2008</td>\n",
       "      <td>manual</td>\n",
       "      <td>69</td>\n",
       "      <td>fabia</td>\n",
       "      <td>90000</td>\n",
       "      <td>7</td>\n",
       "      <td>gasoline</td>\n",
       "      <td>skoda</td>\n",
       "      <td>no</td>\n",
       "      <td>31/03/2016 00:00</td>\n",
       "      <td>0</td>\n",
       "      <td>60437</td>\n",
       "      <td>06/04/2016 10:17</td>\n",
       "    </tr>\n",
       "  </tbody>\n",
       "</table>\n",
       "</div>"
      ],
      "text/plain": [
       "        DateCrawled  Price VehicleType  RegistrationYear Gearbox  Power  \\\n",
       "0  24/03/2016 11:52    480         NaN              1993  manual      0   \n",
       "1  24/03/2016 10:58  18300       coupe              2011  manual    190   \n",
       "2  14/03/2016 12:52   9800         suv              2004    auto    163   \n",
       "3  17/03/2016 16:54   1500       small              2001  manual     75   \n",
       "4  31/03/2016 17:25   3600       small              2008  manual     69   \n",
       "\n",
       "   Model  Mileage  RegistrationMonth  FuelType       Brand NotRepaired  \\\n",
       "0   golf   150000                  0    petrol  volkswagen         NaN   \n",
       "1    NaN   125000                  5  gasoline        audi         yes   \n",
       "2  grand   125000                  8  gasoline        jeep         NaN   \n",
       "3   golf   150000                  6    petrol  volkswagen          no   \n",
       "4  fabia    90000                  7  gasoline       skoda          no   \n",
       "\n",
       "        DateCreated  NumberOfPictures  PostalCode          LastSeen  \n",
       "0  24/03/2016 00:00                 0       70435  07/04/2016 03:16  \n",
       "1  24/03/2016 00:00                 0       66954  07/04/2016 01:46  \n",
       "2  14/03/2016 00:00                 0       90480  05/04/2016 12:47  \n",
       "3  17/03/2016 00:00                 0       91074  17/03/2016 17:40  \n",
       "4  31/03/2016 00:00                 0       60437  06/04/2016 10:17  "
      ]
     },
     "execution_count": 3,
     "metadata": {},
     "output_type": "execute_result"
    }
   ],
   "source": [
    "#Printing first five entries in dataframe\n",
    "df.head()"
   ]
  },
  {
   "cell_type": "markdown",
   "id": "8d2565cf",
   "metadata": {},
   "source": [
    "- Results show column names are accurate to the project data description.\n",
    "- Column names need to be converted to lowercase.\n",
    "- `DateCrawled` and `LastSeen` are unrelated to `Price` and therefore can be removed."
   ]
  },
  {
   "cell_type": "code",
   "execution_count": 4,
   "id": "07b0375d",
   "metadata": {},
   "outputs": [
    {
     "name": "stdout",
     "output_type": "stream",
     "text": [
      "<class 'pandas.core.frame.DataFrame'>\n",
      "RangeIndex: 354369 entries, 0 to 354368\n",
      "Data columns (total 16 columns):\n",
      " #   Column             Non-Null Count   Dtype \n",
      "---  ------             --------------   ----- \n",
      " 0   DateCrawled        354369 non-null  object\n",
      " 1   Price              354369 non-null  int64 \n",
      " 2   VehicleType        316879 non-null  object\n",
      " 3   RegistrationYear   354369 non-null  int64 \n",
      " 4   Gearbox            334536 non-null  object\n",
      " 5   Power              354369 non-null  int64 \n",
      " 6   Model              334664 non-null  object\n",
      " 7   Mileage            354369 non-null  int64 \n",
      " 8   RegistrationMonth  354369 non-null  int64 \n",
      " 9   FuelType           321474 non-null  object\n",
      " 10  Brand              354369 non-null  object\n",
      " 11  NotRepaired        283215 non-null  object\n",
      " 12  DateCreated        354369 non-null  object\n",
      " 13  NumberOfPictures   354369 non-null  int64 \n",
      " 14  PostalCode         354369 non-null  int64 \n",
      " 15  LastSeen           354369 non-null  object\n",
      "dtypes: int64(7), object(9)\n",
      "memory usage: 43.3+ MB\n"
     ]
    }
   ],
   "source": [
    "#General file examination (missing values and data types)\n",
    "df.info()"
   ]
  },
  {
   "cell_type": "markdown",
   "id": "d1640757",
   "metadata": {},
   "source": [
    "- Dataset includes 354107 entries with 15 features (6 categorical, 9 numeric) and 1 numeric target variable.\n",
    "- There are missing values in `VehicleType`, `Gearbox`, `Model`, `FuelType` and `NotRepaired`.\n",
    "- 3 date features data types need to be converted to datetime.\n",
    "- 6 categorical features need to be encoded.\n",
    "- Vehicle age at price inquiry time is difference between `RegistrationYear` and `DateCreated`."
   ]
  },
  {
   "cell_type": "code",
   "execution_count": 5,
   "id": "7a5bf0e7",
   "metadata": {
    "scrolled": true
   },
   "outputs": [
    {
     "data": {
      "text/html": [
       "<div>\n",
       "<style scoped>\n",
       "    .dataframe tbody tr th:only-of-type {\n",
       "        vertical-align: middle;\n",
       "    }\n",
       "\n",
       "    .dataframe tbody tr th {\n",
       "        vertical-align: top;\n",
       "    }\n",
       "\n",
       "    .dataframe thead th {\n",
       "        text-align: right;\n",
       "    }\n",
       "</style>\n",
       "<table border=\"1\" class=\"dataframe\">\n",
       "  <thead>\n",
       "    <tr style=\"text-align: right;\">\n",
       "      <th></th>\n",
       "      <th>DateCrawled</th>\n",
       "      <th>Price</th>\n",
       "      <th>VehicleType</th>\n",
       "      <th>RegistrationYear</th>\n",
       "      <th>Gearbox</th>\n",
       "      <th>Power</th>\n",
       "      <th>Model</th>\n",
       "      <th>Mileage</th>\n",
       "      <th>RegistrationMonth</th>\n",
       "      <th>FuelType</th>\n",
       "      <th>Brand</th>\n",
       "      <th>NotRepaired</th>\n",
       "      <th>DateCreated</th>\n",
       "      <th>NumberOfPictures</th>\n",
       "      <th>PostalCode</th>\n",
       "      <th>LastSeen</th>\n",
       "    </tr>\n",
       "  </thead>\n",
       "  <tbody>\n",
       "    <tr>\n",
       "      <th>count</th>\n",
       "      <td>354369</td>\n",
       "      <td>354369.000000</td>\n",
       "      <td>316879</td>\n",
       "      <td>354369.000000</td>\n",
       "      <td>334536</td>\n",
       "      <td>354369.000000</td>\n",
       "      <td>334664</td>\n",
       "      <td>354369.000000</td>\n",
       "      <td>354369.000000</td>\n",
       "      <td>321474</td>\n",
       "      <td>354369</td>\n",
       "      <td>283215</td>\n",
       "      <td>354369</td>\n",
       "      <td>354369.0</td>\n",
       "      <td>354369.000000</td>\n",
       "      <td>354369</td>\n",
       "    </tr>\n",
       "    <tr>\n",
       "      <th>unique</th>\n",
       "      <td>15470</td>\n",
       "      <td>NaN</td>\n",
       "      <td>8</td>\n",
       "      <td>NaN</td>\n",
       "      <td>2</td>\n",
       "      <td>NaN</td>\n",
       "      <td>250</td>\n",
       "      <td>NaN</td>\n",
       "      <td>NaN</td>\n",
       "      <td>7</td>\n",
       "      <td>40</td>\n",
       "      <td>2</td>\n",
       "      <td>109</td>\n",
       "      <td>NaN</td>\n",
       "      <td>NaN</td>\n",
       "      <td>18592</td>\n",
       "    </tr>\n",
       "    <tr>\n",
       "      <th>top</th>\n",
       "      <td>05/03/2016 14:25</td>\n",
       "      <td>NaN</td>\n",
       "      <td>sedan</td>\n",
       "      <td>NaN</td>\n",
       "      <td>manual</td>\n",
       "      <td>NaN</td>\n",
       "      <td>golf</td>\n",
       "      <td>NaN</td>\n",
       "      <td>NaN</td>\n",
       "      <td>petrol</td>\n",
       "      <td>volkswagen</td>\n",
       "      <td>no</td>\n",
       "      <td>03/04/2016 00:00</td>\n",
       "      <td>NaN</td>\n",
       "      <td>NaN</td>\n",
       "      <td>07/04/2016 07:16</td>\n",
       "    </tr>\n",
       "    <tr>\n",
       "      <th>freq</th>\n",
       "      <td>66</td>\n",
       "      <td>NaN</td>\n",
       "      <td>91457</td>\n",
       "      <td>NaN</td>\n",
       "      <td>268251</td>\n",
       "      <td>NaN</td>\n",
       "      <td>29232</td>\n",
       "      <td>NaN</td>\n",
       "      <td>NaN</td>\n",
       "      <td>216352</td>\n",
       "      <td>77013</td>\n",
       "      <td>247161</td>\n",
       "      <td>13719</td>\n",
       "      <td>NaN</td>\n",
       "      <td>NaN</td>\n",
       "      <td>654</td>\n",
       "    </tr>\n",
       "    <tr>\n",
       "      <th>mean</th>\n",
       "      <td>NaN</td>\n",
       "      <td>4416.656776</td>\n",
       "      <td>NaN</td>\n",
       "      <td>2004.234448</td>\n",
       "      <td>NaN</td>\n",
       "      <td>110.094337</td>\n",
       "      <td>NaN</td>\n",
       "      <td>128211.172535</td>\n",
       "      <td>5.714645</td>\n",
       "      <td>NaN</td>\n",
       "      <td>NaN</td>\n",
       "      <td>NaN</td>\n",
       "      <td>NaN</td>\n",
       "      <td>0.0</td>\n",
       "      <td>50508.689087</td>\n",
       "      <td>NaN</td>\n",
       "    </tr>\n",
       "    <tr>\n",
       "      <th>std</th>\n",
       "      <td>NaN</td>\n",
       "      <td>4514.158514</td>\n",
       "      <td>NaN</td>\n",
       "      <td>90.227958</td>\n",
       "      <td>NaN</td>\n",
       "      <td>189.850405</td>\n",
       "      <td>NaN</td>\n",
       "      <td>37905.341530</td>\n",
       "      <td>3.726421</td>\n",
       "      <td>NaN</td>\n",
       "      <td>NaN</td>\n",
       "      <td>NaN</td>\n",
       "      <td>NaN</td>\n",
       "      <td>0.0</td>\n",
       "      <td>25783.096248</td>\n",
       "      <td>NaN</td>\n",
       "    </tr>\n",
       "    <tr>\n",
       "      <th>min</th>\n",
       "      <td>NaN</td>\n",
       "      <td>0.000000</td>\n",
       "      <td>NaN</td>\n",
       "      <td>1000.000000</td>\n",
       "      <td>NaN</td>\n",
       "      <td>0.000000</td>\n",
       "      <td>NaN</td>\n",
       "      <td>5000.000000</td>\n",
       "      <td>0.000000</td>\n",
       "      <td>NaN</td>\n",
       "      <td>NaN</td>\n",
       "      <td>NaN</td>\n",
       "      <td>NaN</td>\n",
       "      <td>0.0</td>\n",
       "      <td>1067.000000</td>\n",
       "      <td>NaN</td>\n",
       "    </tr>\n",
       "    <tr>\n",
       "      <th>25%</th>\n",
       "      <td>NaN</td>\n",
       "      <td>1050.000000</td>\n",
       "      <td>NaN</td>\n",
       "      <td>1999.000000</td>\n",
       "      <td>NaN</td>\n",
       "      <td>69.000000</td>\n",
       "      <td>NaN</td>\n",
       "      <td>125000.000000</td>\n",
       "      <td>3.000000</td>\n",
       "      <td>NaN</td>\n",
       "      <td>NaN</td>\n",
       "      <td>NaN</td>\n",
       "      <td>NaN</td>\n",
       "      <td>0.0</td>\n",
       "      <td>30165.000000</td>\n",
       "      <td>NaN</td>\n",
       "    </tr>\n",
       "    <tr>\n",
       "      <th>50%</th>\n",
       "      <td>NaN</td>\n",
       "      <td>2700.000000</td>\n",
       "      <td>NaN</td>\n",
       "      <td>2003.000000</td>\n",
       "      <td>NaN</td>\n",
       "      <td>105.000000</td>\n",
       "      <td>NaN</td>\n",
       "      <td>150000.000000</td>\n",
       "      <td>6.000000</td>\n",
       "      <td>NaN</td>\n",
       "      <td>NaN</td>\n",
       "      <td>NaN</td>\n",
       "      <td>NaN</td>\n",
       "      <td>0.0</td>\n",
       "      <td>49413.000000</td>\n",
       "      <td>NaN</td>\n",
       "    </tr>\n",
       "    <tr>\n",
       "      <th>75%</th>\n",
       "      <td>NaN</td>\n",
       "      <td>6400.000000</td>\n",
       "      <td>NaN</td>\n",
       "      <td>2008.000000</td>\n",
       "      <td>NaN</td>\n",
       "      <td>143.000000</td>\n",
       "      <td>NaN</td>\n",
       "      <td>150000.000000</td>\n",
       "      <td>9.000000</td>\n",
       "      <td>NaN</td>\n",
       "      <td>NaN</td>\n",
       "      <td>NaN</td>\n",
       "      <td>NaN</td>\n",
       "      <td>0.0</td>\n",
       "      <td>71083.000000</td>\n",
       "      <td>NaN</td>\n",
       "    </tr>\n",
       "    <tr>\n",
       "      <th>max</th>\n",
       "      <td>NaN</td>\n",
       "      <td>20000.000000</td>\n",
       "      <td>NaN</td>\n",
       "      <td>9999.000000</td>\n",
       "      <td>NaN</td>\n",
       "      <td>20000.000000</td>\n",
       "      <td>NaN</td>\n",
       "      <td>150000.000000</td>\n",
       "      <td>12.000000</td>\n",
       "      <td>NaN</td>\n",
       "      <td>NaN</td>\n",
       "      <td>NaN</td>\n",
       "      <td>NaN</td>\n",
       "      <td>0.0</td>\n",
       "      <td>99998.000000</td>\n",
       "      <td>NaN</td>\n",
       "    </tr>\n",
       "  </tbody>\n",
       "</table>\n",
       "</div>"
      ],
      "text/plain": [
       "             DateCrawled          Price VehicleType  RegistrationYear Gearbox  \\\n",
       "count             354369  354369.000000      316879     354369.000000  334536   \n",
       "unique             15470            NaN           8               NaN       2   \n",
       "top     05/03/2016 14:25            NaN       sedan               NaN  manual   \n",
       "freq                  66            NaN       91457               NaN  268251   \n",
       "mean                 NaN    4416.656776         NaN       2004.234448     NaN   \n",
       "std                  NaN    4514.158514         NaN         90.227958     NaN   \n",
       "min                  NaN       0.000000         NaN       1000.000000     NaN   \n",
       "25%                  NaN    1050.000000         NaN       1999.000000     NaN   \n",
       "50%                  NaN    2700.000000         NaN       2003.000000     NaN   \n",
       "75%                  NaN    6400.000000         NaN       2008.000000     NaN   \n",
       "max                  NaN   20000.000000         NaN       9999.000000     NaN   \n",
       "\n",
       "                Power   Model        Mileage  RegistrationMonth FuelType  \\\n",
       "count   354369.000000  334664  354369.000000      354369.000000   321474   \n",
       "unique            NaN     250            NaN                NaN        7   \n",
       "top               NaN    golf            NaN                NaN   petrol   \n",
       "freq              NaN   29232            NaN                NaN   216352   \n",
       "mean       110.094337     NaN  128211.172535           5.714645      NaN   \n",
       "std        189.850405     NaN   37905.341530           3.726421      NaN   \n",
       "min          0.000000     NaN    5000.000000           0.000000      NaN   \n",
       "25%         69.000000     NaN  125000.000000           3.000000      NaN   \n",
       "50%        105.000000     NaN  150000.000000           6.000000      NaN   \n",
       "75%        143.000000     NaN  150000.000000           9.000000      NaN   \n",
       "max      20000.000000     NaN  150000.000000          12.000000      NaN   \n",
       "\n",
       "             Brand NotRepaired       DateCreated  NumberOfPictures  \\\n",
       "count       354369      283215            354369          354369.0   \n",
       "unique          40           2               109               NaN   \n",
       "top     volkswagen          no  03/04/2016 00:00               NaN   \n",
       "freq         77013      247161             13719               NaN   \n",
       "mean           NaN         NaN               NaN               0.0   \n",
       "std            NaN         NaN               NaN               0.0   \n",
       "min            NaN         NaN               NaN               0.0   \n",
       "25%            NaN         NaN               NaN               0.0   \n",
       "50%            NaN         NaN               NaN               0.0   \n",
       "75%            NaN         NaN               NaN               0.0   \n",
       "max            NaN         NaN               NaN               0.0   \n",
       "\n",
       "           PostalCode          LastSeen  \n",
       "count   354369.000000            354369  \n",
       "unique            NaN             18592  \n",
       "top               NaN  07/04/2016 07:16  \n",
       "freq              NaN               654  \n",
       "mean     50508.689087               NaN  \n",
       "std      25783.096248               NaN  \n",
       "min       1067.000000               NaN  \n",
       "25%      30165.000000               NaN  \n",
       "50%      49413.000000               NaN  \n",
       "75%      71083.000000               NaN  \n",
       "max      99998.000000               NaN  "
      ]
     },
     "execution_count": 5,
     "metadata": {},
     "output_type": "execute_result"
    }
   ],
   "source": [
    "#Integrated display of columns\n",
    "df.describe(include='all')"
   ]
  },
  {
   "cell_type": "code",
   "execution_count": 6,
   "id": "2cebc922",
   "metadata": {},
   "outputs": [
    {
     "data": {
      "image/png": "[encoded data removed]",
      "text/plain": [
       "<Figure size 432x288 with 1 Axes>"
      ]
     },
     "metadata": {
      "needs_background": "light"
     },
     "output_type": "display_data"
    }
   ],
   "source": [
    "#Plotting target\n",
    "df['Price'].hist()\n",
    "plt.title('Car price distribution');"
   ]
  },
  {
   "cell_type": "markdown",
   "id": "27deadc6",
   "metadata": {},
   "source": [
    "- Target distribution is positively skewed\n",
    "- 0 `Price` needs to be checked for error.\n",
    "- `RegistrationYear`, `Power` and `Mileage` need to be checked for outliers.\n",
    "- `NumberOfPictures` only has 0 values, can be removed as non-informative."
   ]
  },
  {
   "cell_type": "markdown",
   "id": "b54c8169",
   "metadata": {},
   "source": [
    "##  Preprocessing"
   ]
  },
  {
   "cell_type": "markdown",
   "id": "6f175b1e",
   "metadata": {},
   "source": [
    "### Column names"
   ]
  },
  {
   "cell_type": "code",
   "execution_count": 7,
   "id": "1d934cbf",
   "metadata": {},
   "outputs": [],
   "source": [
    "columns = []\n",
    "for name in df.columns.values:\n",
    "    name = re.sub('([A-Z])', r' \\1', name).lower().replace(' ', '_')[1:]\n",
    "    columns.append(name)\n",
    "df.columns = columns"
   ]
  },
  {
   "cell_type": "markdown",
   "id": "002aecc6",
   "metadata": {},
   "source": [
    "### Data type change"
   ]
  },
  {
   "cell_type": "code",
   "execution_count": 8,
   "id": "431553fb",
   "metadata": {},
   "outputs": [],
   "source": [
    "df['date_created'] = pd.to_datetime(df['date_created'])"
   ]
  },
  {
   "cell_type": "markdown",
   "id": "5d091d0c",
   "metadata": {},
   "source": [
    "### Missing values"
   ]
  },
  {
   "cell_type": "code",
   "execution_count": 9,
   "id": "0ae4e7b3",
   "metadata": {
    "scrolled": false
   },
   "outputs": [
    {
     "data": {
      "text/plain": [
       "not_repaired          0.200791\n",
       "vehicle_type          0.105794\n",
       "fuel_type             0.092827\n",
       "gearbox               0.055967\n",
       "model                 0.055606\n",
       "date_crawled          0.000000\n",
       "price                 0.000000\n",
       "registration_year     0.000000\n",
       "power                 0.000000\n",
       "mileage               0.000000\n",
       "registration_month    0.000000\n",
       "brand                 0.000000\n",
       "date_created          0.000000\n",
       "number_of_pictures    0.000000\n",
       "postal_code           0.000000\n",
       "last_seen             0.000000\n",
       "dtype: float64"
      ]
     },
     "execution_count": 9,
     "metadata": {},
     "output_type": "execute_result"
    }
   ],
   "source": [
    "#Finding columns with missing values\n",
    "(df.isnull().sum()/df.shape[0]).sort_values(ascending=False)"
   ]
  },
  {
   "cell_type": "markdown",
   "id": "6a8bd8c3",
   "metadata": {},
   "source": [
    "#### not_repaired"
   ]
  },
  {
   "cell_type": "code",
   "execution_count": 10,
   "id": "ddf9e1c5",
   "metadata": {},
   "outputs": [
    {
     "data": {
      "text/plain": [
       "no     247161\n",
       "yes     36054\n",
       "Name: not_repaired, dtype: int64"
      ]
     },
     "execution_count": 10,
     "metadata": {},
     "output_type": "execute_result"
    }
   ],
   "source": [
    "df['not_repaired'].value_counts()"
   ]
  },
  {
   "cell_type": "code",
   "execution_count": 11,
   "id": "929351c1",
   "metadata": {},
   "outputs": [],
   "source": [
    "#Assuming missing values mean not repaired (forgotton column) and 'no' is majority group, we fill with 'no'\n",
    "df['not_repaired'].fillna('no', inplace=True)"
   ]
  },
  {
   "cell_type": "markdown",
   "id": "938adf25",
   "metadata": {},
   "source": [
    "#### vehicle_type, model, fuel_type"
   ]
  },
  {
   "cell_type": "code",
   "execution_count": 12,
   "id": "02f4ac06",
   "metadata": {},
   "outputs": [],
   "source": [
    "#Filling missing values with 'n/a'\n",
    "for col in ['vehicle_type','model','fuel_type']:\n",
    "    df[col].fillna('n/a', inplace=True)    "
   ]
  },
  {
   "cell_type": "markdown",
   "id": "5d5977fe",
   "metadata": {},
   "source": [
    "#### gearbox"
   ]
  },
  {
   "cell_type": "code",
   "execution_count": 13,
   "id": "ecb2a5aa",
   "metadata": {},
   "outputs": [
    {
     "data": {
      "text/plain": [
       "manual    268251\n",
       "auto       66285\n",
       "Name: gearbox, dtype: int64"
      ]
     },
     "execution_count": 13,
     "metadata": {},
     "output_type": "execute_result"
    }
   ],
   "source": [
    "df['gearbox'].value_counts()"
   ]
  },
  {
   "cell_type": "code",
   "execution_count": 14,
   "id": "4d185668",
   "metadata": {},
   "outputs": [],
   "source": [
    "#Filling missing values with majority group 'manual'\n",
    "df['gearbox'].fillna('manual', inplace=True)"
   ]
  },
  {
   "cell_type": "markdown",
   "id": "56b52370",
   "metadata": {},
   "source": [
    "### Duplicates"
   ]
  },
  {
   "cell_type": "code",
   "execution_count": 15,
   "id": "db1bb5a7",
   "metadata": {
    "scrolled": true
   },
   "outputs": [
    {
     "data": {
      "text/plain": [
       "292"
      ]
     },
     "execution_count": 15,
     "metadata": {},
     "output_type": "execute_result"
    }
   ],
   "source": [
    "#Checking for duplicates\n",
    "df.duplicated().sum()"
   ]
  },
  {
   "cell_type": "code",
   "execution_count": 16,
   "id": "377bd7a5",
   "metadata": {},
   "outputs": [],
   "source": [
    "#Dropping duplicates\n",
    "df = df.drop_duplicates(ignore_index=True)"
   ]
  },
  {
   "cell_type": "markdown",
   "id": "150fb339",
   "metadata": {},
   "source": [
    "## EDA\n",
    "### registration_year"
   ]
  },
  {
   "cell_type": "code",
   "execution_count": 17,
   "id": "1ae59ae3",
   "metadata": {},
   "outputs": [
    {
     "data": {
      "image/png": "[encoded data removed]",
      "text/plain": [
       "<Figure size 432x288 with 1 Axes>"
      ]
     },
     "metadata": {
      "needs_background": "light"
     },
     "output_type": "display_data"
    },
    {
     "data": {
      "image/png": "[encoded data removed]",
      "text/plain": [
       "<Figure size 432x288 with 1 Axes>"
      ]
     },
     "metadata": {
      "needs_background": "light"
     },
     "output_type": "display_data"
    }
   ],
   "source": [
    "#Plotting\n",
    "df.boxplot('registration_year')\n",
    "plt.ylim(1000, 10000)\n",
    "plt.title('Registration year box plot')\n",
    "plt.xticks([1], [''])\n",
    "plt.ylabel('year');\n",
    "\n",
    "df.hist('registration_year')\n",
    "plt.title('Registration year distribution')\n",
    "plt.xlabel('year')\n",
    "plt.ylabel('number of vehicles');"
   ]
  },
  {
   "cell_type": "code",
   "execution_count": 18,
   "id": "ff0d9d99",
   "metadata": {},
   "outputs": [],
   "source": [
    "#Plot depicts years maily around 2000 with outliers\n",
    "#Dropping data before 1900 and after 2016 (extraction year)\n",
    "df.loc[(df['registration_year'] < 1900) | (df['registration_year'] > 2016), 'registration_year'] = np.nan\n",
    "df = df.dropna(subset=['registration_year'], axis=0)\n",
    "df.reset_index(drop=True, inplace=True)"
   ]
  },
  {
   "cell_type": "markdown",
   "id": "ee842a2b",
   "metadata": {},
   "source": [
    "### price"
   ]
  },
  {
   "cell_type": "code",
   "execution_count": 19,
   "id": "a64f9901",
   "metadata": {
    "scrolled": true
   },
   "outputs": [
    {
     "data": {
      "image/png": "[encoded data removed]",
      "text/plain": [
       "<Figure size 432x288 with 1 Axes>"
      ]
     },
     "metadata": {
      "needs_background": "light"
     },
     "output_type": "display_data"
    }
   ],
   "source": [
    "#Plotting\n",
    "df.boxplot('price')\n",
    "plt.title('Car price box plot')\n",
    "plt.xticks([1], [''])\n",
    "plt.ylabel('price');"
   ]
  },
  {
   "cell_type": "code",
   "execution_count": 20,
   "id": "832d10ff",
   "metadata": {
    "scrolled": true
   },
   "outputs": [
    {
     "name": "stdout",
     "output_type": "stream",
     "text": [
      "7\n",
      "1118\n",
      "10006\n"
     ]
    }
   ],
   "source": [
    "#Most prices range from around 1000 to 6000 euro with some higher values and max of 20000 euro which seems reasonable\n",
    "#Checking for other artifacts\n",
    "print(len(df[df['price'] == 12345]))\n",
    "print(len(df[df['price'] == 1]))\n",
    "print(len(df[df['price'] == 0]))"
   ]
  },
  {
   "cell_type": "code",
   "execution_count": 21,
   "id": "1ebe0da7",
   "metadata": {
    "scrolled": false
   },
   "outputs": [
    {
     "data": {
      "text/plain": [
       "(328351, 16)"
      ]
     },
     "execution_count": 21,
     "metadata": {},
     "output_type": "execute_result"
    }
   ],
   "source": [
    "#Dropping as price is target variable and above values are non-informative\n",
    "df.loc[(df['price'] == 12345) | (df['price'] == 1) | (df['price'] == 0), 'price'] = np.nan\n",
    "df = df.dropna(subset=['price'], axis=0)\n",
    "df.reset_index(drop=True, inplace=True)\n",
    "df.shape"
   ]
  },
  {
   "cell_type": "markdown",
   "id": "fbf7b7e1",
   "metadata": {},
   "source": [
    "### mileage"
   ]
  },
  {
   "cell_type": "code",
   "execution_count": 22,
   "id": "9e3ad37b",
   "metadata": {},
   "outputs": [
    {
     "data": {
      "image/png": "[encoded data removed]",
      "text/plain": [
       "<Figure size 432x288 with 1 Axes>"
      ]
     },
     "metadata": {
      "needs_background": "light"
     },
     "output_type": "display_data"
    },
    {
     "data": {
      "image/png": "[encoded data removed]",
      "text/plain": [
       "<Figure size 432x288 with 1 Axes>"
      ]
     },
     "metadata": {
      "needs_background": "light"
     },
     "output_type": "display_data"
    },
    {
     "data": {
      "image/png": "[encoded data removed]",
      "text/plain": [
       "<Figure size 432x288 with 1 Axes>"
      ]
     },
     "metadata": {
      "needs_background": "light"
     },
     "output_type": "display_data"
    }
   ],
   "source": [
    "#Plotting\n",
    "Q1 = df['mileage'].quantile(0.25)\n",
    "Q3 = df['mileage'].quantile(0.75)\n",
    "IQR = Q3 - Q1\n",
    "lower_whisker = Q1 - 1.5 * IQR\n",
    "df.boxplot('mileage')\n",
    "plt.hlines(y=lower_whisker, xmin=0.9, xmax=1.1, color='red')\n",
    "plt.title('Mileage box plot with theoretical whisker')\n",
    "plt.xticks([1], [''])\n",
    "plt.ylabel('mileage');\n",
    "\n",
    "df.hist('mileage')\n",
    "plt.title('Mileage distribution');\n",
    "\n",
    "len(df[df['mileage'] < lower_whisker])\n",
    "\n",
    "df.plot.scatter(x='mileage', y='price', alpha=.25)\n",
    "plt.title('Link between vehicle price and mileage');"
   ]
  },
  {
   "cell_type": "markdown",
   "id": "e6d426d7",
   "metadata": {},
   "source": [
    "Most vehicles have high mileage and we keep values lower than lower whisker as they aren't numerous and may exist.\n",
    "No clear linear connection between vehicle price and mileage."
   ]
  },
  {
   "cell_type": "markdown",
   "id": "47a3bba2",
   "metadata": {},
   "source": [
    "### power"
   ]
  },
  {
   "cell_type": "code",
   "execution_count": 23,
   "id": "239d767e",
   "metadata": {
    "scrolled": true
   },
   "outputs": [
    {
     "name": "stdout",
     "output_type": "stream",
     "text": [
      "85\n"
     ]
    },
    {
     "data": {
      "text/plain": [
       "32395"
      ]
     },
     "execution_count": 23,
     "metadata": {},
     "output_type": "execute_result"
    },
    {
     "data": {
      "image/png": "[encoded data removed]",
      "text/plain": [
       "<Figure size 432x288 with 1 Axes>"
      ]
     },
     "metadata": {
      "needs_background": "light"
     },
     "output_type": "display_data"
    }
   ],
   "source": [
    "#Plotting\n",
    "df['power'].hist()\n",
    "plt.title('Car horse power distribution');\n",
    "\n",
    "print(len(df[df['power'] > 2500]))\n",
    "len(df[df['power'] == 0])"
   ]
  },
  {
   "cell_type": "code",
   "execution_count": 24,
   "id": "93d42873",
   "metadata": {},
   "outputs": [
    {
     "name": "stdout",
     "output_type": "stream",
     "text": [
      "(295871, 16)\n"
     ]
    },
    {
     "data": {
      "image/png": "[encoded data removed]",
      "text/plain": [
       "<Figure size 432x288 with 1 Axes>"
      ]
     },
     "metadata": {
      "needs_background": "light"
     },
     "output_type": "display_data"
    }
   ],
   "source": [
    "#Dropping power higher than 2500 hp and 0 values as not valid\n",
    "df.loc[(df['power'] > 2500) | (df['power'] == 0), 'power'] = np.nan\n",
    "df = df.dropna(subset=['power'], axis=0)\n",
    "df.reset_index(drop=True, inplace=True)\n",
    "print(df.shape)\n",
    "\n",
    "df.plot.scatter(x='power', y='price', alpha=.25)\n",
    "plt.title('Link between vehicle price and power');"
   ]
  },
  {
   "cell_type": "markdown",
   "id": "f46f03ae",
   "metadata": {},
   "source": [
    "No clear linear connection between vehicle price and power."
   ]
  },
  {
   "cell_type": "markdown",
   "id": "3004b5e4",
   "metadata": {},
   "source": [
    "### vehicle age"
   ]
  },
  {
   "cell_type": "code",
   "execution_count": 25,
   "id": "36c19473",
   "metadata": {
    "scrolled": true
   },
   "outputs": [
    {
     "data": {
      "image/png": "[encoded data removed]",
      "text/plain": [
       "<Figure size 432x288 with 1 Axes>"
      ]
     },
     "metadata": {
      "needs_background": "light"
     },
     "output_type": "display_data"
    }
   ],
   "source": [
    "#Calculating vehicle age at price inquiry time by finding difference between registration_year and date_created\n",
    "df['year_created'] = df['date_created'].dt.year\n",
    "df['vehicle_age'] = df['year_created'] - df['registration_year']\n",
    "df.plot.scatter(x='vehicle_age', y='price', alpha=.25)\n",
    "plt.title('Link between vehicle price and age');"
   ]
  },
  {
   "cell_type": "markdown",
   "id": "1cd10179",
   "metadata": {},
   "source": [
    "No visible correlation between vehicle price and age."
   ]
  },
  {
   "cell_type": "markdown",
   "id": "f4ed740b",
   "metadata": {},
   "source": [
    "### postal_code"
   ]
  },
  {
   "cell_type": "code",
   "execution_count": 26,
   "id": "81ddc62c",
   "metadata": {},
   "outputs": [
    {
     "data": {
      "image/png": "[encoded data removed]",
      "text/plain": [
       "<Figure size 432x288 with 1 Axes>"
      ]
     },
     "metadata": {
      "needs_background": "light"
     },
     "output_type": "display_data"
    }
   ],
   "source": [
    "#Plotting\n",
    "df.plot.scatter(x='postal_code', y='price', alpha=.25)\n",
    "plt.title('Link between price and postal_code of a vehicle');"
   ]
  },
  {
   "cell_type": "markdown",
   "id": "8126d7dc",
   "metadata": {},
   "source": [
    "No linear dependency between these 2 variables, testing model without postal_code feature is considered."
   ]
  },
  {
   "cell_type": "markdown",
   "id": "9e48075a",
   "metadata": {},
   "source": [
    "# Preparation"
   ]
  },
  {
   "cell_type": "markdown",
   "id": "cbcd6082",
   "metadata": {},
   "source": [
    "## Dropping columns"
   ]
  },
  {
   "cell_type": "code",
   "execution_count": 27,
   "id": "548689f3",
   "metadata": {},
   "outputs": [
    {
     "data": {
      "text/html": [
       "<div>\n",
       "<style scoped>\n",
       "    .dataframe tbody tr th:only-of-type {\n",
       "        vertical-align: middle;\n",
       "    }\n",
       "\n",
       "    .dataframe tbody tr th {\n",
       "        vertical-align: top;\n",
       "    }\n",
       "\n",
       "    .dataframe thead th {\n",
       "        text-align: right;\n",
       "    }\n",
       "</style>\n",
       "<table border=\"1\" class=\"dataframe\">\n",
       "  <thead>\n",
       "    <tr style=\"text-align: right;\">\n",
       "      <th></th>\n",
       "      <th>price</th>\n",
       "      <th>vehicle_type</th>\n",
       "      <th>gearbox</th>\n",
       "      <th>power</th>\n",
       "      <th>model</th>\n",
       "      <th>mileage</th>\n",
       "      <th>fuel_type</th>\n",
       "      <th>brand</th>\n",
       "      <th>not_repaired</th>\n",
       "      <th>vehicle_age</th>\n",
       "    </tr>\n",
       "  </thead>\n",
       "  <tbody>\n",
       "    <tr>\n",
       "      <th>0</th>\n",
       "      <td>18300.0</td>\n",
       "      <td>coupe</td>\n",
       "      <td>manual</td>\n",
       "      <td>190.0</td>\n",
       "      <td>n/a</td>\n",
       "      <td>125000</td>\n",
       "      <td>gasoline</td>\n",
       "      <td>audi</td>\n",
       "      <td>yes</td>\n",
       "      <td>5.0</td>\n",
       "    </tr>\n",
       "  </tbody>\n",
       "</table>\n",
       "</div>"
      ],
      "text/plain": [
       "     price vehicle_type gearbox  power model  mileage fuel_type brand  \\\n",
       "0  18300.0        coupe  manual  190.0   n/a   125000  gasoline  audi   \n",
       "\n",
       "  not_repaired  vehicle_age  \n",
       "0          yes          5.0  "
      ]
     },
     "execution_count": 27,
     "metadata": {},
     "output_type": "execute_result"
    }
   ],
   "source": [
    "df = df.drop(['postal_code','date_crawled','last_seen', 'number_of_pictures', 'registration_month', \n",
    "              'date_created', 'registration_year', 'year_created'], axis=1)\n",
    "\n",
    "df.head(1)"
   ]
  },
  {
   "cell_type": "markdown",
   "id": "ac712a7c",
   "metadata": {},
   "source": [
    "## Encoding"
   ]
  },
  {
   "cell_type": "code",
   "execution_count": 28,
   "id": "89061161",
   "metadata": {},
   "outputs": [
    {
     "data": {
      "text/html": [
       "<div>\n",
       "<style scoped>\n",
       "    .dataframe tbody tr th:only-of-type {\n",
       "        vertical-align: middle;\n",
       "    }\n",
       "\n",
       "    .dataframe tbody tr th {\n",
       "        vertical-align: top;\n",
       "    }\n",
       "\n",
       "    .dataframe thead th {\n",
       "        text-align: right;\n",
       "    }\n",
       "</style>\n",
       "<table border=\"1\" class=\"dataframe\">\n",
       "  <thead>\n",
       "    <tr style=\"text-align: right;\">\n",
       "      <th></th>\n",
       "      <th>price</th>\n",
       "      <th>power</th>\n",
       "      <th>mileage</th>\n",
       "      <th>vehicle_age</th>\n",
       "      <th>vehicle_type_convertible</th>\n",
       "      <th>vehicle_type_coupe</th>\n",
       "      <th>vehicle_type_n/a</th>\n",
       "      <th>vehicle_type_other</th>\n",
       "      <th>vehicle_type_sedan</th>\n",
       "      <th>vehicle_type_small</th>\n",
       "      <th>...</th>\n",
       "      <th>brand_skoda</th>\n",
       "      <th>brand_smart</th>\n",
       "      <th>brand_sonstige_autos</th>\n",
       "      <th>brand_subaru</th>\n",
       "      <th>brand_suzuki</th>\n",
       "      <th>brand_toyota</th>\n",
       "      <th>brand_trabant</th>\n",
       "      <th>brand_volkswagen</th>\n",
       "      <th>brand_volvo</th>\n",
       "      <th>not_repaired_yes</th>\n",
       "    </tr>\n",
       "  </thead>\n",
       "  <tbody>\n",
       "    <tr>\n",
       "      <th>0</th>\n",
       "      <td>18300.0</td>\n",
       "      <td>190.0</td>\n",
       "      <td>125000</td>\n",
       "      <td>5.0</td>\n",
       "      <td>0</td>\n",
       "      <td>1</td>\n",
       "      <td>0</td>\n",
       "      <td>0</td>\n",
       "      <td>0</td>\n",
       "      <td>0</td>\n",
       "      <td>...</td>\n",
       "      <td>0</td>\n",
       "      <td>0</td>\n",
       "      <td>0</td>\n",
       "      <td>0</td>\n",
       "      <td>0</td>\n",
       "      <td>0</td>\n",
       "      <td>0</td>\n",
       "      <td>0</td>\n",
       "      <td>0</td>\n",
       "      <td>1</td>\n",
       "    </tr>\n",
       "    <tr>\n",
       "      <th>1</th>\n",
       "      <td>9800.0</td>\n",
       "      <td>163.0</td>\n",
       "      <td>125000</td>\n",
       "      <td>12.0</td>\n",
       "      <td>0</td>\n",
       "      <td>0</td>\n",
       "      <td>0</td>\n",
       "      <td>0</td>\n",
       "      <td>0</td>\n",
       "      <td>0</td>\n",
       "      <td>...</td>\n",
       "      <td>0</td>\n",
       "      <td>0</td>\n",
       "      <td>0</td>\n",
       "      <td>0</td>\n",
       "      <td>0</td>\n",
       "      <td>0</td>\n",
       "      <td>0</td>\n",
       "      <td>0</td>\n",
       "      <td>0</td>\n",
       "      <td>0</td>\n",
       "    </tr>\n",
       "    <tr>\n",
       "      <th>2</th>\n",
       "      <td>1500.0</td>\n",
       "      <td>75.0</td>\n",
       "      <td>150000</td>\n",
       "      <td>15.0</td>\n",
       "      <td>0</td>\n",
       "      <td>0</td>\n",
       "      <td>0</td>\n",
       "      <td>0</td>\n",
       "      <td>0</td>\n",
       "      <td>1</td>\n",
       "      <td>...</td>\n",
       "      <td>0</td>\n",
       "      <td>0</td>\n",
       "      <td>0</td>\n",
       "      <td>0</td>\n",
       "      <td>0</td>\n",
       "      <td>0</td>\n",
       "      <td>0</td>\n",
       "      <td>1</td>\n",
       "      <td>0</td>\n",
       "      <td>0</td>\n",
       "    </tr>\n",
       "    <tr>\n",
       "      <th>3</th>\n",
       "      <td>3600.0</td>\n",
       "      <td>69.0</td>\n",
       "      <td>90000</td>\n",
       "      <td>8.0</td>\n",
       "      <td>0</td>\n",
       "      <td>0</td>\n",
       "      <td>0</td>\n",
       "      <td>0</td>\n",
       "      <td>0</td>\n",
       "      <td>1</td>\n",
       "      <td>...</td>\n",
       "      <td>1</td>\n",
       "      <td>0</td>\n",
       "      <td>0</td>\n",
       "      <td>0</td>\n",
       "      <td>0</td>\n",
       "      <td>0</td>\n",
       "      <td>0</td>\n",
       "      <td>0</td>\n",
       "      <td>0</td>\n",
       "      <td>0</td>\n",
       "    </tr>\n",
       "    <tr>\n",
       "      <th>4</th>\n",
       "      <td>650.0</td>\n",
       "      <td>102.0</td>\n",
       "      <td>150000</td>\n",
       "      <td>21.0</td>\n",
       "      <td>0</td>\n",
       "      <td>0</td>\n",
       "      <td>0</td>\n",
       "      <td>0</td>\n",
       "      <td>1</td>\n",
       "      <td>0</td>\n",
       "      <td>...</td>\n",
       "      <td>0</td>\n",
       "      <td>0</td>\n",
       "      <td>0</td>\n",
       "      <td>0</td>\n",
       "      <td>0</td>\n",
       "      <td>0</td>\n",
       "      <td>0</td>\n",
       "      <td>0</td>\n",
       "      <td>0</td>\n",
       "      <td>1</td>\n",
       "    </tr>\n",
       "  </tbody>\n",
       "</table>\n",
       "<p>5 rows × 309 columns</p>\n",
       "</div>"
      ],
      "text/plain": [
       "     price  power  mileage  vehicle_age  vehicle_type_convertible  \\\n",
       "0  18300.0  190.0   125000          5.0                         0   \n",
       "1   9800.0  163.0   125000         12.0                         0   \n",
       "2   1500.0   75.0   150000         15.0                         0   \n",
       "3   3600.0   69.0    90000          8.0                         0   \n",
       "4    650.0  102.0   150000         21.0                         0   \n",
       "\n",
       "   vehicle_type_coupe  vehicle_type_n/a  vehicle_type_other  \\\n",
       "0                   1                 0                   0   \n",
       "1                   0                 0                   0   \n",
       "2                   0                 0                   0   \n",
       "3                   0                 0                   0   \n",
       "4                   0                 0                   0   \n",
       "\n",
       "   vehicle_type_sedan  vehicle_type_small  ...  brand_skoda  brand_smart  \\\n",
       "0                   0                   0  ...            0            0   \n",
       "1                   0                   0  ...            0            0   \n",
       "2                   0                   1  ...            0            0   \n",
       "3                   0                   1  ...            1            0   \n",
       "4                   1                   0  ...            0            0   \n",
       "\n",
       "   brand_sonstige_autos  brand_subaru  brand_suzuki  brand_toyota  \\\n",
       "0                     0             0             0             0   \n",
       "1                     0             0             0             0   \n",
       "2                     0             0             0             0   \n",
       "3                     0             0             0             0   \n",
       "4                     0             0             0             0   \n",
       "\n",
       "   brand_trabant  brand_volkswagen  brand_volvo  not_repaired_yes  \n",
       "0              0                 0            0                 1  \n",
       "1              0                 0            0                 0  \n",
       "2              0                 1            0                 0  \n",
       "3              0                 0            0                 0  \n",
       "4              0                 0            0                 1  \n",
       "\n",
       "[5 rows x 309 columns]"
      ]
     },
     "execution_count": 28,
     "metadata": {},
     "output_type": "execute_result"
    }
   ],
   "source": [
    "df = pd.get_dummies(df, drop_first=True)\n",
    "df.head()"
   ]
  },
  {
   "cell_type": "markdown",
   "id": "ba02b020",
   "metadata": {},
   "source": [
    "## Splitting"
   ]
  },
  {
   "cell_type": "code",
   "execution_count": 29,
   "id": "9dfe170b",
   "metadata": {},
   "outputs": [],
   "source": [
    "#Splitting data into train, validation and test sets with 80/20 proportion\n",
    "X = df.drop('price', axis=1)\n",
    "y = df['price']\n",
    "X_train, X_test, y_train, y_test = train_test_split(X, y, test_size = 0.2, random_state=12345)\n",
    "\n",
    "X_train, X_valid, y_train, y_valid = train_test_split(\n",
    "    X_train, y_train, test_size = 0.2, random_state=12345)"
   ]
  },
  {
   "cell_type": "markdown",
   "id": "f08c2875",
   "metadata": {},
   "source": [
    "## Standard scaling"
   ]
  },
  {
   "cell_type": "code",
   "execution_count": 30,
   "id": "db736a2a",
   "metadata": {},
   "outputs": [],
   "source": [
    "#Scaling features before modeling to make coefficients comparable \n",
    "sc = ss()\n",
    "X_train = sc.fit_transform(X_train)\n",
    "X_valid = sc.transform(X_valid)\n",
    "X_test = sc.transform(X_test)"
   ]
  },
  {
   "cell_type": "markdown",
   "id": "2d67654d",
   "metadata": {},
   "source": [
    "# Model\n",
    "Best model selection by RMSE.\n",
    "## Linear regression"
   ]
  },
  {
   "cell_type": "code",
   "execution_count": 31,
   "id": "3e8a7408",
   "metadata": {},
   "outputs": [
    {
     "data": {
      "text/plain": [
       "2722.3347181739186"
      ]
     },
     "execution_count": 31,
     "metadata": {},
     "output_type": "execute_result"
    }
   ],
   "source": [
    "LR = LinearRegression()\n",
    "start = time()\n",
    "LR.fit(X_train, y_train)\n",
    "end = time()\n",
    "fit_time_LR = end - start\n",
    "\n",
    "start = time()\n",
    "y_pred = LR.predict(X_valid)\n",
    "end = time()\n",
    "predict_time_LR = end - start\n",
    "\n",
    "LR_score = mean_squared_error(y_valid, y_pred) ** 0.5\n",
    "LR_score"
   ]
  },
  {
   "cell_type": "markdown",
   "id": "7a57909c",
   "metadata": {},
   "source": [
    "Linear regression RMSE: 2722.334."
   ]
  },
  {
   "cell_type": "markdown",
   "id": "f3288e6f",
   "metadata": {},
   "source": [
    "## Decision Tree \n",
    "### Base"
   ]
  },
  {
   "cell_type": "code",
   "execution_count": 32,
   "id": "73a6a942",
   "metadata": {},
   "outputs": [
    {
     "data": {
      "text/plain": [
       "1867.1301682478029"
      ]
     },
     "execution_count": 32,
     "metadata": {},
     "output_type": "execute_result"
    }
   ],
   "source": [
    "DT = DecisionTreeRegressor()\n",
    "\n",
    "start = time()\n",
    "DT.fit(X_train, y_train)\n",
    "end = time()\n",
    "fit_time_DT = end - start\n",
    "\n",
    "start = time()\n",
    "y_pred = DT.predict(X_valid)\n",
    "end = time()\n",
    "predict_time_DT = end - start\n",
    "\n",
    "DT_score_base = mean_squared_error(y_valid, y_pred) ** 0.5\n",
    "DT_score_base"
   ]
  },
  {
   "cell_type": "markdown",
   "id": "06f9a9e3",
   "metadata": {},
   "source": [
    "Decision tree base RMSE: 1868.489."
   ]
  },
  {
   "cell_type": "markdown",
   "id": "efe6310c",
   "metadata": {},
   "source": [
    "### Tuned"
   ]
  },
  {
   "cell_type": "code",
   "execution_count": 33,
   "id": "7e1e9cf0",
   "metadata": {},
   "outputs": [
    {
     "data": {
      "text/html": [
       "<div>\n",
       "<style scoped>\n",
       "    .dataframe tbody tr th:only-of-type {\n",
       "        vertical-align: middle;\n",
       "    }\n",
       "\n",
       "    .dataframe tbody tr th {\n",
       "        vertical-align: top;\n",
       "    }\n",
       "\n",
       "    .dataframe thead th {\n",
       "        text-align: right;\n",
       "    }\n",
       "</style>\n",
       "<table border=\"1\" class=\"dataframe\">\n",
       "  <thead>\n",
       "    <tr style=\"text-align: right;\">\n",
       "      <th></th>\n",
       "      <th>max_depth</th>\n",
       "      <th>DT_score_tuned</th>\n",
       "      <th>fit_time_DT_tuned</th>\n",
       "      <th>predict_time_DT_tuned</th>\n",
       "    </tr>\n",
       "  </thead>\n",
       "  <tbody>\n",
       "    <tr>\n",
       "      <th>1</th>\n",
       "      <td>10</td>\n",
       "      <td>1992.772877</td>\n",
       "      <td>3.320179</td>\n",
       "      <td>0.032804</td>\n",
       "    </tr>\n",
       "  </tbody>\n",
       "</table>\n",
       "</div>"
      ],
      "text/plain": [
       "   max_depth  DT_score_tuned  fit_time_DT_tuned  predict_time_DT_tuned\n",
       "1         10     1992.772877           3.320179               0.032804"
      ]
     },
     "execution_count": 33,
     "metadata": {},
     "output_type": "execute_result"
    }
   ],
   "source": [
    "d = []\n",
    "for depth in [5,10]:\n",
    "    DT = DecisionTreeRegressor(random_state=12345, max_depth=depth)\n",
    "        \n",
    "    start = time()\n",
    "    DT.fit(X_train, y_train)\n",
    "    end = time()\n",
    "    fit_time_DT_tuned = end - start\n",
    "        \n",
    "    start = time()\n",
    "    y_pred = DT.predict(X_valid)\n",
    "    end = time()\n",
    "    predict_time_DT_tuned = end - start\n",
    "        \n",
    "    DT_score_tuned = mean_squared_error(y_valid, y_pred) ** 0.5\n",
    "    d.append({'max_depth': depth,\n",
    "              'DT_score_tuned':  DT_score_tuned,\n",
    "              'fit_time_DT_tuned': fit_time_DT_tuned,\n",
    "              'predict_time_DT_tuned': predict_time_DT_tuned})\n",
    "        \n",
    "best_param = pd.DataFrame(d).nsmallest(1, ['DT_score_tuned'], keep='first')\n",
    "DT_score_tuned = best_param['DT_score_tuned'].values\n",
    "fit_time_DT_tuned = best_param['fit_time_DT_tuned'].values\n",
    "predict_time_DT_tuned = best_param['predict_time_DT_tuned'].values\n",
    "\n",
    "best_param"
   ]
  },
  {
   "cell_type": "markdown",
   "id": "a54352ab",
   "metadata": {},
   "source": [
    "Decision tree tuned RMSE: 1992.772, max_depth=10."
   ]
  },
  {
   "cell_type": "markdown",
   "id": "b639797a",
   "metadata": {},
   "source": [
    "## Random Forest\n",
    "### Base"
   ]
  },
  {
   "cell_type": "code",
   "execution_count": 34,
   "id": "33fd47e0",
   "metadata": {},
   "outputs": [
    {
     "data": {
      "text/plain": [
       "1591.7730542317563"
      ]
     },
     "execution_count": 34,
     "metadata": {},
     "output_type": "execute_result"
    }
   ],
   "source": [
    "RF = RandomForestRegressor()\n",
    "\n",
    "start = time()\n",
    "RF.fit(X_train, y_train)\n",
    "end = time()\n",
    "fit_time_RF = end - start\n",
    "\n",
    "start = time()\n",
    "y_pred = RF.predict(X_valid)\n",
    "end = time()\n",
    "predict_time_RF = end - start\n",
    "\n",
    "RF_score_base = mean_squared_error(y_valid, y_pred) ** 0.5\n",
    "RF_score_base"
   ]
  },
  {
   "cell_type": "markdown",
   "id": "328a036f",
   "metadata": {},
   "source": [
    "Random forest base RMSE: 1594.889."
   ]
  },
  {
   "cell_type": "markdown",
   "id": "28ad1c73",
   "metadata": {},
   "source": [
    "### Tuned"
   ]
  },
  {
   "cell_type": "code",
   "execution_count": 35,
   "id": "ad72e9d5",
   "metadata": {},
   "outputs": [
    {
     "data": {
      "text/html": [
       "<div>\n",
       "<style scoped>\n",
       "    .dataframe tbody tr th:only-of-type {\n",
       "        vertical-align: middle;\n",
       "    }\n",
       "\n",
       "    .dataframe tbody tr th {\n",
       "        vertical-align: top;\n",
       "    }\n",
       "\n",
       "    .dataframe thead th {\n",
       "        text-align: right;\n",
       "    }\n",
       "</style>\n",
       "<table border=\"1\" class=\"dataframe\">\n",
       "  <thead>\n",
       "    <tr style=\"text-align: right;\">\n",
       "      <th></th>\n",
       "      <th>n_estimators</th>\n",
       "      <th>max_depth</th>\n",
       "      <th>RF_score_tuned</th>\n",
       "      <th>fit_time_RF_tuned</th>\n",
       "      <th>predict_time_RF_tuned</th>\n",
       "    </tr>\n",
       "  </thead>\n",
       "  <tbody>\n",
       "    <tr>\n",
       "      <th>3</th>\n",
       "      <td>500</td>\n",
       "      <td>10</td>\n",
       "      <td>1899.878639</td>\n",
       "      <td>968.281319</td>\n",
       "      <td>2.014496</td>\n",
       "    </tr>\n",
       "  </tbody>\n",
       "</table>\n",
       "</div>"
      ],
      "text/plain": [
       "   n_estimators  max_depth  RF_score_tuned  fit_time_RF_tuned  \\\n",
       "3           500         10     1899.878639         968.281319   \n",
       "\n",
       "   predict_time_RF_tuned  \n",
       "3               2.014496  "
      ]
     },
     "execution_count": 35,
     "metadata": {},
     "output_type": "execute_result"
    }
   ],
   "source": [
    "d = []\n",
    "for estim in [100, 500]:\n",
    "    for depth in [5,10]:\n",
    "        RF = RandomForestRegressor(random_state=12345, n_estimators=estim, max_depth=depth)\n",
    "        \n",
    "        start = time()\n",
    "        RF.fit(X_train, y_train)\n",
    "        end = time()\n",
    "        fit_time_RF_tuned = end - start\n",
    "        \n",
    "        start = time()\n",
    "        y_pred = RF.predict(X_valid)\n",
    "        end = time()\n",
    "        predict_time_RF_tuned = end - start\n",
    "        \n",
    "        RF_score_tuned = mean_squared_error(y_valid, y_pred) ** 0.5\n",
    "        d.append({'n_estimators': estim,\n",
    "                'max_depth': depth,\n",
    "                'RF_score_tuned':  RF_score_tuned,\n",
    "                'fit_time_RF_tuned': fit_time_RF_tuned,\n",
    "                'predict_time_RF_tuned': predict_time_RF_tuned})\n",
    "        \n",
    "best_param = pd.DataFrame(d).nsmallest(1, ['RF_score_tuned'], keep='first')\n",
    "RF_score_tuned = best_param['RF_score_tuned'].values\n",
    "fit_time_RF_tuned = best_param['fit_time_RF_tuned'].values\n",
    "predict_time_RF_tuned = best_param['predict_time_RF_tuned'].values\n",
    "\n",
    "best_param"
   ]
  },
  {
   "cell_type": "markdown",
   "id": "3262b560",
   "metadata": {},
   "source": [
    "Random forest tuned RMSE: 1899.878, max_depth=10, n_estimators=500."
   ]
  },
  {
   "cell_type": "markdown",
   "id": "3fa9c161",
   "metadata": {},
   "source": [
    "## XGBoost\n",
    "### Base"
   ]
  },
  {
   "cell_type": "code",
   "execution_count": 36,
   "id": "45c9a45a",
   "metadata": {},
   "outputs": [
    {
     "data": {
      "text/plain": [
       "1653.009440150326"
      ]
     },
     "execution_count": 36,
     "metadata": {},
     "output_type": "execute_result"
    }
   ],
   "source": [
    "XGB = XGBRegressor(n_jobs=-1)\n",
    "\n",
    "start = time()\n",
    "XGB.fit(X_train, y_train)\n",
    "end = time()\n",
    "fit_time_XGB = end - start\n",
    "\n",
    "start = time()\n",
    "y_pred = XGB.predict(X_valid)\n",
    "end = time()\n",
    "predict_time_XGB = end - start\n",
    "\n",
    "XGB_score_base = mean_squared_error(y_valid, y_pred) ** 0.5\n",
    "XGB_score_base"
   ]
  },
  {
   "cell_type": "markdown",
   "id": "cf173d34",
   "metadata": {},
   "source": [
    "XGBoost base RMSE: 1653.009."
   ]
  },
  {
   "cell_type": "markdown",
   "id": "c1591f94",
   "metadata": {},
   "source": [
    "### Tuned"
   ]
  },
  {
   "cell_type": "code",
   "execution_count": 37,
   "id": "b158a931",
   "metadata": {},
   "outputs": [
    {
     "data": {
      "text/html": [
       "<div>\n",
       "<style scoped>\n",
       "    .dataframe tbody tr th:only-of-type {\n",
       "        vertical-align: middle;\n",
       "    }\n",
       "\n",
       "    .dataframe tbody tr th {\n",
       "        vertical-align: top;\n",
       "    }\n",
       "\n",
       "    .dataframe thead th {\n",
       "        text-align: right;\n",
       "    }\n",
       "</style>\n",
       "<table border=\"1\" class=\"dataframe\">\n",
       "  <thead>\n",
       "    <tr style=\"text-align: right;\">\n",
       "      <th></th>\n",
       "      <th>n_estimators</th>\n",
       "      <th>max_depth</th>\n",
       "      <th>XGB_score_tuned</th>\n",
       "      <th>fit_time_XGB_tuned</th>\n",
       "      <th>predict_time_XGB_tuned</th>\n",
       "    </tr>\n",
       "  </thead>\n",
       "  <tbody>\n",
       "    <tr>\n",
       "      <th>3</th>\n",
       "      <td>500</td>\n",
       "      <td>10</td>\n",
       "      <td>1569.42126</td>\n",
       "      <td>1228.085328</td>\n",
       "      <td>0.800489</td>\n",
       "    </tr>\n",
       "  </tbody>\n",
       "</table>\n",
       "</div>"
      ],
      "text/plain": [
       "   n_estimators  max_depth  XGB_score_tuned  fit_time_XGB_tuned  \\\n",
       "3           500         10       1569.42126         1228.085328   \n",
       "\n",
       "   predict_time_XGB_tuned  \n",
       "3                0.800489  "
      ]
     },
     "execution_count": 37,
     "metadata": {},
     "output_type": "execute_result"
    }
   ],
   "source": [
    "d = []\n",
    "for estim in [100, 500]:\n",
    "    for depth in [5, 10]:\n",
    "        XGB = XGBRegressor(random_state=12345, n_estimators=estim, \n",
    "                                       max_depth=depth, n_jobs=-1)\n",
    "        start = time()\n",
    "        XGB.fit(X_train, y_train)\n",
    "        end = time()\n",
    "        fit_time_XGB_tuned = end - start\n",
    "        \n",
    "        start = time()\n",
    "        y_pred = XGB.predict(X_valid)\n",
    "        end = time()\n",
    "        predict_time_XGB_tuned = end - start\n",
    "        \n",
    "        XGB_score_tuned = mean_squared_error(y_valid, y_pred) ** 0.5\n",
    "        d.append({'n_estimators': estim,\n",
    "                            'max_depth': depth,\n",
    "                            'XGB_score_tuned':  XGB_score_tuned,\n",
    "                            'fit_time_XGB_tuned': fit_time_XGB_tuned,\n",
    "                            'predict_time_XGB_tuned': predict_time_XGB_tuned})\n",
    "\n",
    "best_param = pd.DataFrame(d).nsmallest(1, ['XGB_score_tuned'], keep='first')\n",
    "XGB_score_tuned = best_param['XGB_score_tuned'].values\n",
    "fit_time_XGB_tuned = best_param['fit_time_XGB_tuned'].values\n",
    "predict_time_XGB_tuned = best_param['predict_time_XGB_tuned'].values\n",
    "\n",
    "best_param"
   ]
  },
  {
   "cell_type": "markdown",
   "id": "9430c68b",
   "metadata": {},
   "source": [
    "XGBoost tuned RMSE: 1569.421, max_depth=10, n_estimators=500."
   ]
  },
  {
   "cell_type": "markdown",
   "id": "df3c2cb6",
   "metadata": {},
   "source": [
    "## LightGBM\n",
    "### Base"
   ]
  },
  {
   "cell_type": "code",
   "execution_count": 38,
   "id": "85ca60a1",
   "metadata": {
    "scrolled": true
   },
   "outputs": [
    {
     "data": {
      "text/plain": [
       "1689.7166430930356"
      ]
     },
     "execution_count": 38,
     "metadata": {},
     "output_type": "execute_result"
    }
   ],
   "source": [
    "LGB = LGBMRegressor()\n",
    "\n",
    "start = time()\n",
    "LGB.fit(X_train, y_train)\n",
    "end = time()\n",
    "fit_time_LGB = end - start\n",
    "\n",
    "start = time()\n",
    "y_pred = LGB.predict(X_valid)\n",
    "end = time()\n",
    "predict_time_LGB = end - start\n",
    "\n",
    "LGB_score_base = mean_squared_error(y_valid, y_pred) ** 0.5\n",
    "LGB_score_base"
   ]
  },
  {
   "cell_type": "markdown",
   "id": "8c0c0362",
   "metadata": {},
   "source": [
    "LightGBM base RMSE: 1689.716."
   ]
  },
  {
   "cell_type": "markdown",
   "id": "8d3925b8",
   "metadata": {},
   "source": [
    "### Tuned"
   ]
  },
  {
   "cell_type": "code",
   "execution_count": 39,
   "id": "7aabb1de",
   "metadata": {
    "scrolled": true
   },
   "outputs": [
    {
     "name": "stdout",
     "output_type": "stream",
     "text": [
      "[LightGBM] [Warning] Accuracy may be bad since you didn't explicitly set num_leaves OR 2^max_depth > num_leaves. (num_leaves=31).\n",
      "[LightGBM] [Warning] Accuracy may be bad since you didn't explicitly set num_leaves OR 2^max_depth > num_leaves. (num_leaves=31).\n",
      "[LightGBM] [Warning] Accuracy may be bad since you didn't explicitly set num_leaves OR 2^max_depth > num_leaves. (num_leaves=31).\n",
      "[LightGBM] [Warning] Accuracy may be bad since you didn't explicitly set num_leaves OR 2^max_depth > num_leaves. (num_leaves=31).\n"
     ]
    },
    {
     "data": {
      "text/html": [
       "<div>\n",
       "<style scoped>\n",
       "    .dataframe tbody tr th:only-of-type {\n",
       "        vertical-align: middle;\n",
       "    }\n",
       "\n",
       "    .dataframe tbody tr th {\n",
       "        vertical-align: top;\n",
       "    }\n",
       "\n",
       "    .dataframe thead th {\n",
       "        text-align: right;\n",
       "    }\n",
       "</style>\n",
       "<table border=\"1\" class=\"dataframe\">\n",
       "  <thead>\n",
       "    <tr style=\"text-align: right;\">\n",
       "      <th></th>\n",
       "      <th>n_estimators</th>\n",
       "      <th>max_depth</th>\n",
       "      <th>LGB_score_tuned</th>\n",
       "      <th>fit_time_LGB_tuned</th>\n",
       "      <th>predict_time_LGB_tuned</th>\n",
       "    </tr>\n",
       "  </thead>\n",
       "  <tbody>\n",
       "    <tr>\n",
       "      <th>3</th>\n",
       "      <td>500</td>\n",
       "      <td>10</td>\n",
       "      <td>1598.149398</td>\n",
       "      <td>6.690797</td>\n",
       "      <td>0.836208</td>\n",
       "    </tr>\n",
       "  </tbody>\n",
       "</table>\n",
       "</div>"
      ],
      "text/plain": [
       "   n_estimators  max_depth  LGB_score_tuned  fit_time_LGB_tuned  \\\n",
       "3           500         10      1598.149398            6.690797   \n",
       "\n",
       "   predict_time_LGB_tuned  \n",
       "3                0.836208  "
      ]
     },
     "execution_count": 39,
     "metadata": {},
     "output_type": "execute_result"
    }
   ],
   "source": [
    "d = []\n",
    "for estim in [100, 500]:\n",
    "    for depth in [5, 10]:\n",
    "        LGB = LGBMRegressor(random_state=12345, n_estimators=estim, \n",
    "                                       max_depth=depth)\n",
    "        start = time()\n",
    "        LGB.fit(X_train, y_train)\n",
    "        end = time()\n",
    "        fit_time_LGB_tuned = end - start\n",
    "        \n",
    "        start = time()\n",
    "        y_pred = LGB.predict(X_valid)\n",
    "        end = time()\n",
    "        predict_time_LGB_tuned = end - start\n",
    "        \n",
    "        LGB_score_tuned = mean_squared_error(y_valid, y_pred) ** 0.5\n",
    "        d.append({'n_estimators': estim,\n",
    "                  'max_depth': depth,\n",
    "                  'LGB_score_tuned':  LGB_score_tuned,\n",
    "                  'fit_time_LGB_tuned': fit_time_LGB_tuned,\n",
    "                  'predict_time_LGB_tuned': predict_time_LGB_tuned})\n",
    "\n",
    "best_param = pd.DataFrame(d).nsmallest(1, ['LGB_score_tuned'], keep='first')\n",
    "LGB_score_tuned = best_param['LGB_score_tuned'].values\n",
    "fit_time_LGB_tuned = best_param['fit_time_LGB_tuned'].values\n",
    "predict_time_LGB_tuned = best_param['predict_time_LGB_tuned'].values\n",
    "\n",
    "best_param"
   ]
  },
  {
   "cell_type": "markdown",
   "id": "874394bd",
   "metadata": {},
   "source": [
    "LightGBM tuned RMSE: 1598.149, max_depth=10, n_estimators=500."
   ]
  },
  {
   "cell_type": "markdown",
   "id": "a3a158d0",
   "metadata": {},
   "source": [
    "## CatBoost\n",
    "### Base"
   ]
  },
  {
   "cell_type": "code",
   "execution_count": 40,
   "id": "c6676767",
   "metadata": {},
   "outputs": [
    {
     "data": {
      "text/plain": [
       "1607.0035886234634"
      ]
     },
     "execution_count": 40,
     "metadata": {},
     "output_type": "execute_result"
    }
   ],
   "source": [
    "CB = CatBoostRegressor(verbose=0)\n",
    "\n",
    "start = time()\n",
    "CB.fit(X_train, y_train)\n",
    "end = time()\n",
    "fit_time_CB = end - start\n",
    "\n",
    "start = time()\n",
    "y_pred = CB.predict(X_valid)\n",
    "end = time()\n",
    "predict_time_CB = end - start\n",
    "\n",
    "CB_score_base = mean_squared_error(y_valid, y_pred) ** 0.5\n",
    "CB_score_base"
   ]
  },
  {
   "cell_type": "markdown",
   "id": "9ffb6b0f",
   "metadata": {},
   "source": [
    "CatBoost base RMSE: 1607.003."
   ]
  },
  {
   "cell_type": "markdown",
   "id": "a3523be8",
   "metadata": {},
   "source": [
    "### Tuned"
   ]
  },
  {
   "cell_type": "code",
   "execution_count": 41,
   "id": "25a2b5b0",
   "metadata": {},
   "outputs": [
    {
     "data": {
      "text/html": [
       "<div>\n",
       "<style scoped>\n",
       "    .dataframe tbody tr th:only-of-type {\n",
       "        vertical-align: middle;\n",
       "    }\n",
       "\n",
       "    .dataframe tbody tr th {\n",
       "        vertical-align: top;\n",
       "    }\n",
       "\n",
       "    .dataframe thead th {\n",
       "        text-align: right;\n",
       "    }\n",
       "</style>\n",
       "<table border=\"1\" class=\"dataframe\">\n",
       "  <thead>\n",
       "    <tr style=\"text-align: right;\">\n",
       "      <th></th>\n",
       "      <th>n_estimators</th>\n",
       "      <th>depth</th>\n",
       "      <th>CB_score_tuned</th>\n",
       "      <th>fit_time_CB_tuned</th>\n",
       "      <th>predict_time_CB_tuned</th>\n",
       "    </tr>\n",
       "  </thead>\n",
       "  <tbody>\n",
       "    <tr>\n",
       "      <th>3</th>\n",
       "      <td>500</td>\n",
       "      <td>10</td>\n",
       "      <td>1558.63418</td>\n",
       "      <td>15.333458</td>\n",
       "      <td>0.094287</td>\n",
       "    </tr>\n",
       "  </tbody>\n",
       "</table>\n",
       "</div>"
      ],
      "text/plain": [
       "   n_estimators  depth  CB_score_tuned  fit_time_CB_tuned  \\\n",
       "3           500     10      1558.63418          15.333458   \n",
       "\n",
       "   predict_time_CB_tuned  \n",
       "3               0.094287  "
      ]
     },
     "execution_count": 41,
     "metadata": {},
     "output_type": "execute_result"
    }
   ],
   "source": [
    "d = []\n",
    "for iterations in [100, 500]:\n",
    "    for depth in [5, 10]:\n",
    "        CB = CatBoostRegressor(random_state=12345, iterations=iterations, \n",
    "                                       depth=depth, verbose=0)\n",
    "        start = time()\n",
    "        CB.fit(X_train, y_train)\n",
    "        end = time()\n",
    "        fit_time_CB_tuned = end - start\n",
    "        \n",
    "        start = time()\n",
    "        y_pred = CB.predict(X_valid)\n",
    "        end = time()\n",
    "        predict_time_CB_tuned = end - start\n",
    "        \n",
    "        CB_score_tuned = mean_squared_error(y_valid, y_pred) ** 0.5\n",
    "        d.append({'n_estimators': estim,\n",
    "                            'depth': depth,\n",
    "                            'CB_score_tuned':  CB_score_tuned,\n",
    "                            'fit_time_CB_tuned': fit_time_CB_tuned,\n",
    "                            'predict_time_CB_tuned': predict_time_CB_tuned})\n",
    "\n",
    "best_param = pd.DataFrame(d).nsmallest(1, ['CB_score_tuned'], keep='first')\n",
    "CB_score_tuned = best_param['CB_score_tuned'].values\n",
    "fit_time_CB_tuned = best_param['fit_time_CB_tuned'].values\n",
    "predict_time_CB_tuned = best_param['predict_time_CB_tuned'].values\n",
    "\n",
    "best_param"
   ]
  },
  {
   "cell_type": "markdown",
   "id": "91ad37c7",
   "metadata": {},
   "source": [
    "CatBoost tuned RMSE: 1558.634, max_depth=10, n_estimators=500."
   ]
  },
  {
   "cell_type": "markdown",
   "id": "caf60a23",
   "metadata": {},
   "source": [
    "## Results"
   ]
  },
  {
   "cell_type": "code",
   "execution_count": 42,
   "id": "c54babab",
   "metadata": {
    "scrolled": true
   },
   "outputs": [
    {
     "data": {
      "image/png": "[encoded data removed]",
      "text/plain": [
       "<Figure size 1080x360 with 3 Axes>"
      ]
     },
     "metadata": {
      "needs_background": "light"
     },
     "output_type": "display_data"
    }
   ],
   "source": [
    "#Creating DF of model scores\n",
    "models = pd.DataFrame({'Model': ['LR', 'RF_base', 'XGB_base', 'LGB_base', 'CB_base', 'DT_base',\n",
    "                                 'RF_tuned', 'XGB_tuned', 'LGB_tuned', 'CB_tuned', 'DT_tuned'],\n",
    "                       'Score': [LR_score, RF_score_base, XGB_score_base, LGB_score_base, CB_score_base, DT_score_base,\n",
    "                                 RF_score_tuned, XGB_score_tuned, LGB_score_tuned, CB_score_tuned, DT_score_tuned],\n",
    "                       'Training_time': [fit_time_LR, fit_time_RF, fit_time_XGB, fit_time_LGB, fit_time_CB, fit_time_DT, fit_time_RF_tuned,\n",
    "                                         fit_time_XGB_tuned, fit_time_LGB_tuned, fit_time_CB_tuned, fit_time_DT_tuned],\n",
    "                       'Prediction_time': [predict_time_LR, predict_time_RF, predict_time_XGB, predict_time_LGB, predict_time_CB, predict_time_DT, predict_time_RF_tuned,\n",
    "                                           predict_time_XGB_tuned, predict_time_LGB_tuned, predict_time_CB_tuned, predict_time_DT_tuned]})\n",
    "\n",
    "\n",
    "#Plotting\n",
    "fig, axs = plt.subplots(1,3,figsize=(15,5)) \n",
    "fig.suptitle(\"ML models' comparison\")\n",
    "\n",
    "labels = models.sort_values(by='Score')['Model']\n",
    "values = models.sort_values(by='Score')['Score']\n",
    "axs[0].bar(labels, values, color = 'g')\n",
    "axs[0].set_xticklabels(labels, rotation='vertical')\n",
    "axs[0].set_title('RMSE score')\n",
    "\n",
    "labels = models.sort_values(by='Training_time')['Model']\n",
    "values = models.sort_values(by='Training_time')['Training_time']\n",
    "axs[1].bar(labels, values, color = 'b')\n",
    "axs[1].set_xticklabels(labels, rotation='vertical')\n",
    "axs[1].set_title('Training time')\n",
    "\n",
    "labels = models.sort_values(by='Prediction_time')['Model']\n",
    "values = models.sort_values(by='Prediction_time')['Prediction_time']\n",
    "axs[2].bar(labels, values, color = 'orange')\n",
    "axs[2].set_xticklabels(labels, rotation='vertical')\n",
    "axs[2].set_title('Prediction time');"
   ]
  },
  {
   "cell_type": "markdown",
   "id": "ad229b51",
   "metadata": {},
   "source": [
    "Plot depicts CB_tuned has best score- lowest error rate. XGB_tuned score comes next but has highest training time. Then comes RF_base score but training and prediction times are high.\n",
    "\n",
    "Difference between XGB and CB scores isn't significant but CB model is faster when it comes to training and prediction, therefore, CB is the chosen model. \n",
    "\n",
    "Tuning CatBoost model didn't drastically improve score, meaning other parameters should be tuned as well. "
   ]
  },
  {
   "cell_type": "markdown",
   "id": "696e3561",
   "metadata": {},
   "source": [
    "## CB- chosen model\n",
    "### Further tuning"
   ]
  },
  {
   "cell_type": "code",
   "execution_count": 43,
   "id": "5dcafff3",
   "metadata": {},
   "outputs": [
    {
     "data": {
      "text/html": [
       "<div>\n",
       "<style scoped>\n",
       "    .dataframe tbody tr th:only-of-type {\n",
       "        vertical-align: middle;\n",
       "    }\n",
       "\n",
       "    .dataframe tbody tr th {\n",
       "        vertical-align: top;\n",
       "    }\n",
       "\n",
       "    .dataframe thead th {\n",
       "        text-align: right;\n",
       "    }\n",
       "</style>\n",
       "<table border=\"1\" class=\"dataframe\">\n",
       "  <thead>\n",
       "    <tr style=\"text-align: right;\">\n",
       "      <th></th>\n",
       "      <th>n_estimators</th>\n",
       "      <th>depth</th>\n",
       "      <th>CB_score_tuned</th>\n",
       "      <th>learning_rate</th>\n",
       "      <th>fit_time_CB_tuned</th>\n",
       "      <th>predict_time_CB_tuned</th>\n",
       "    </tr>\n",
       "  </thead>\n",
       "  <tbody>\n",
       "    <tr>\n",
       "      <th>11</th>\n",
       "      <td>500</td>\n",
       "      <td>16</td>\n",
       "      <td>1541.029377</td>\n",
       "      <td>0.1</td>\n",
       "      <td>438.369923</td>\n",
       "      <td>0.256278</td>\n",
       "    </tr>\n",
       "  </tbody>\n",
       "</table>\n",
       "</div>"
      ],
      "text/plain": [
       "    n_estimators  depth  CB_score_tuned  learning_rate  fit_time_CB_tuned  \\\n",
       "11           500     16     1541.029377            0.1         438.369923   \n",
       "\n",
       "    predict_time_CB_tuned  \n",
       "11               0.256278  "
      ]
     },
     "execution_count": 43,
     "metadata": {},
     "output_type": "execute_result"
    }
   ],
   "source": [
    "d = []\n",
    "for iterations in [100, 500]:\n",
    "    for depth in [10, 16]:\n",
    "        for learning_rate in [0.01, 0.05, 0.1]:\n",
    "            CB = CatBoostRegressor(random_state=12345, iterations=iterations, \n",
    "                                           depth=depth, learning_rate=learning_rate, verbose=0)\n",
    "            start = time()\n",
    "            CB.fit(X_train, y_train)\n",
    "            end = time()\n",
    "            fit_time_CB_tuned = end - start\n",
    "\n",
    "            start = time()\n",
    "            y_pred = CB.predict(X_valid)\n",
    "            end = time()\n",
    "            predict_time_CB_tuned = end - start\n",
    "\n",
    "            CB_score_tuned = mean_squared_error(y_valid, y_pred) ** 0.5\n",
    "            d.append({'n_estimators': estim,\n",
    "                            'depth': depth,\n",
    "                            'CB_score_tuned':  CB_score_tuned,\n",
    "                            'learning_rate': learning_rate,\n",
    "                            'fit_time_CB_tuned': fit_time_CB_tuned,\n",
    "                            'predict_time_CB_tuned': predict_time_CB_tuned})\n",
    "\n",
    "best_param = pd.DataFrame(d).nsmallest(1, ['CB_score_tuned'], keep='first')\n",
    "CB_score_tuned = best_param['CB_score_tuned'].values\n",
    "fit_time_CB_tuned = best_param['fit_time_CB_tuned'].values\n",
    "predict_time_CB_tuned = best_param['predict_time_CB_tuned'].values\n",
    "learning_rate = best_param['learning_rate'].values\n",
    "\n",
    "best_param"
   ]
  },
  {
   "cell_type": "markdown",
   "id": "b493499a",
   "metadata": {},
   "source": [
    "CatBoost re-tuned RMSE: 1541.029, max_depth=16, n_estimators=500.\n",
    "\n",
    "Score improved with training time increase, yet speed in this project is critical and therefore model with default learning rate is kept."
   ]
  },
  {
   "cell_type": "markdown",
   "id": "e9ba7981",
   "metadata": {},
   "source": [
    "### Retraining and testing"
   ]
  },
  {
   "cell_type": "code",
   "execution_count": 44,
   "id": "2a6d1891",
   "metadata": {},
   "outputs": [
    {
     "name": "stdout",
     "output_type": "stream",
     "text": [
      "Test RMSE: 1527.8126865092415\n",
      "Training time (sec): 17.0\n",
      "Prediction time (sec): 0.16\n"
     ]
    }
   ],
   "source": [
    "X = df.drop('price', axis=1)\n",
    "y = df['price']\n",
    "X_train, X_test, y_train, y_test = train_test_split(X, y, test_size = 0.25, random_state=12345)\n",
    "\n",
    "X_train = sc.fit_transform(X_train)\n",
    "X_test = sc.transform(X_test)\n",
    "\n",
    "CB_final = CatBoostRegressor(random_state=12345, iterations=500, depth=10, verbose=0)\n",
    "start = time()\n",
    "CB_final.fit(X_train, y_train)\n",
    "end = time()\n",
    "fit_time_final = end - start\n",
    "\n",
    "start = time()\n",
    "y_pred = CB_final.predict(X_test)\n",
    "end = time()\n",
    "predict_time_final = end - start\n",
    "\n",
    "CB_final_score_test = mean_squared_error(y_test, y_pred) ** 0.5\n",
    "print('Test RMSE:', CB_final_score_test)\n",
    "print('Training time (sec):', round(fit_time_final,0))\n",
    "print('Prediction time (sec):', round(predict_time_final,2))"
   ]
  },
  {
   "cell_type": "markdown",
   "id": "ee929756",
   "metadata": {},
   "source": [
    "Test RMSE is 1527.812."
   ]
  },
  {
   "cell_type": "markdown",
   "id": "db6944b7",
   "metadata": {},
   "source": [
    "### Sanity check"
   ]
  },
  {
   "cell_type": "code",
   "execution_count": 45,
   "id": "c296c81a",
   "metadata": {},
   "outputs": [
    {
     "data": {
      "text/plain": [
       "2700.957757847181"
      ]
     },
     "execution_count": 45,
     "metadata": {},
     "output_type": "execute_result"
    }
   ],
   "source": [
    "LR.fit(X_train, y_train)\n",
    "y_pred = LR.predict(X_test)\n",
    "LR_score_test = mean_squared_error(y_test, y_pred) ** 0.5\n",
    "LR_score_test"
   ]
  },
  {
   "cell_type": "code",
   "execution_count": 46,
   "id": "e9c7905f",
   "metadata": {},
   "outputs": [
    {
     "data": {
      "text/plain": [
       "43.43"
      ]
     },
     "execution_count": 46,
     "metadata": {},
     "output_type": "execute_result"
    }
   ],
   "source": [
    "round((2700.957757847181-1527.8126865092415)/2700.957757847181 * 100, 2)"
   ]
  },
  {
   "cell_type": "markdown",
   "id": "f5d4b1d6",
   "metadata": {},
   "source": [
    "Final CatBoost test score is 43.43% lower than LR baseline, meaning modeling was useful."
   ]
  },
  {
   "cell_type": "markdown",
   "id": "3caf55e2",
   "metadata": {},
   "source": [
    "# Conclusion\n",
    "\n",
    "In summary, in this project we developed a model to quickly determine car's market value based on historical data while maintaining good prediction quality.\n",
    "\n",
    "<ins>We followed the methodology as follows:<ins>\n",
    "- Open data file and study general information.\n",
    "- Data preprocessing.\n",
    "- Exploratory data analysis.\n",
    "- Encoding.\n",
    "- Splitting into train, validation and test sets.\n",
    "- Standard scaling.\n",
    "- Modeling and model selection by RMSE.\n",
    "- Retraining.\n",
    "- Sanity check.\n",
    "- And now, final conclusion.\n",
    " \n",
    "<ins>Findings:<ins>\n",
    "\n",
    "- Tuned CatBoost model resulted in lowest RMSE score and relatively low training and prediction times.\n",
    "- Final CatBoost test score is 43.43% lower than LR baseline, meaning modeling was useful.\n",
    "- CatBoost tuned RMSE: 1558.634, training time: 51, prediction time: 2.75."
   ]
  },
  {
   "cell_type": "code",
   "execution_count": null,
   "id": "1e44b71a",
   "metadata": {},
   "outputs": [],
   "source": []
  }
 ],
 "metadata": {
  "kernelspec": {
   "display_name": "Python 3",
   "language": "python",
   "name": "python3"
  },
  "language_info": {
   "codemirror_mode": {
    "name": "ipython",
    "version": 3
   },
   "file_extension": ".py",
   "mimetype": "text/x-python",
   "name": "python",
   "nbconvert_exporter": "python",
   "pygments_lexer": "ipython3",
   "version": "3.8.8"
  },
  "toc": {
   "base_numbering": 1,
   "nav_menu": {},
   "number_sections": true,
   "sideBar": true,
   "skip_h1_title": false,
   "title_cell": "Table of Contents",
   "title_sidebar": "Contents",
   "toc_cell": true,
   "toc_position": {},
   "toc_section_display": true,
   "toc_window_display": true
  }
 },
 "nbformat": 4,
 "nbformat_minor": 5
}
